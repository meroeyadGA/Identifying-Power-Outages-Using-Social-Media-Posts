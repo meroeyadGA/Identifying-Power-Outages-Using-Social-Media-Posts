{
 "cells": [
  {
   "cell_type": "markdown",
   "metadata": {},
   "source": [
    "# Scraper Pickle"
   ]
  },
  {
   "cell_type": "code",
   "execution_count": 26,
   "metadata": {},
   "outputs": [
    {
     "name": "stdout",
     "output_type": "stream",
     "text": [
      "Requirement already satisfied: twitterscraper==1.4.0 in /Users/jackwang/anaconda3/lib/python3.7/site-packages (1.4.0)\n",
      "Requirement already satisfied: coala-utils~=0.5.0 in /Users/jackwang/anaconda3/lib/python3.7/site-packages (from twitterscraper==1.4.0) (0.5.1)\n",
      "Requirement already satisfied: requests in /Users/jackwang/anaconda3/lib/python3.7/site-packages (from twitterscraper==1.4.0) (2.22.0)\n",
      "Requirement already satisfied: billiard in /Users/jackwang/anaconda3/lib/python3.7/site-packages (from twitterscraper==1.4.0) (3.6.1.0)\n",
      "Requirement already satisfied: lxml in /Users/jackwang/anaconda3/lib/python3.7/site-packages (from twitterscraper==1.4.0) (4.3.4)\n",
      "Requirement already satisfied: bs4 in /Users/jackwang/anaconda3/lib/python3.7/site-packages (from twitterscraper==1.4.0) (0.0.1)\n",
      "Requirement already satisfied: urllib3!=1.25.0,!=1.25.1,<1.26,>=1.21.1 in /Users/jackwang/anaconda3/lib/python3.7/site-packages (from requests->twitterscraper==1.4.0) (1.24.2)\n",
      "Requirement already satisfied: chardet<3.1.0,>=3.0.2 in /Users/jackwang/anaconda3/lib/python3.7/site-packages (from requests->twitterscraper==1.4.0) (3.0.4)\n",
      "Requirement already satisfied: idna<2.9,>=2.5 in /Users/jackwang/anaconda3/lib/python3.7/site-packages (from requests->twitterscraper==1.4.0) (2.8)\n",
      "Requirement already satisfied: certifi>=2017.4.17 in /Users/jackwang/anaconda3/lib/python3.7/site-packages (from requests->twitterscraper==1.4.0) (2019.9.11)\n",
      "Requirement already satisfied: beautifulsoup4 in /Users/jackwang/anaconda3/lib/python3.7/site-packages (from bs4->twitterscraper==1.4.0) (4.7.1)\n",
      "Requirement already satisfied: soupsieve>=1.2 in /Users/jackwang/anaconda3/lib/python3.7/site-packages (from beautifulsoup4->bs4->twitterscraper==1.4.0) (1.8)\n"
     ]
    }
   ],
   "source": [
    "!pip install twitterscraper==1.4.0"
   ]
  },
  {
   "cell_type": "code",
   "execution_count": 27,
   "metadata": {
    "scrolled": true
   },
   "outputs": [],
   "source": [
    "import pandas as pd\n",
    "import time, datetime\n",
    "import re\n",
    "import pickle\n",
    "\n",
    "from datetime import timedelta\n",
    "from twitterscraper import query_tweets\n",
    "from nltk.tokenize import RegexpTokenizer"
   ]
  },
  {
   "cell_type": "markdown",
   "metadata": {},
   "source": [
    "___"
   ]
  },
  {
   "cell_type": "code",
   "execution_count": 28,
   "metadata": {},
   "outputs": [],
   "source": [
    "    def scrape_twitter(place):\n",
    "        # set empty lists that we will fill with tweet data\n",
    "        text = []\n",
    "        # scrape twitter for tweets containing certain keywords\n",
    "        query_string = f'\"power outage\" OR \"power is out\" OR \"power\\'s out\" OR \"blackouts\" OR \"blackout\" -\"video game\" OR \"power failure\" OR \"power failures\" OR \"no electricity\" OR \"power shortage\" OR \"electrical failure\" OR \"power loss\" OR \"power cuts\" OR \"power cut\" OR \"power went out\" OR \"power interuption\" OR \"brownout\" OR \"power goes out\" OR \"brownouts\" OR \"without power\" near:\"{place}\" within:15mi -filter:retweets'\n",
    "        list_of_tweets = query_tweets(query_string,\n",
    "                                      begindate = datetime.datetime.today().date(),\n",
    "                                      enddate = datetime.datetime.today().date() + timedelta(days=1),\n",
    "                                      poolsize = 2,\n",
    "                                      lang=\"en\")\n",
    "        # loop through each tweet to grab data and append the data to their respective lists\n",
    "        for tweet in list_of_tweets:\n",
    "            text.append(tweet.text)\n",
    "\n",
    "        # build the dataframe\n",
    "        df = pd.DataFrame({\n",
    "            'tweet': text,\n",
    "        })\n",
    "\n",
    "        # remove any twitter pic urls\n",
    "        df['tweet'] = [re.sub(r'pic.twitter.com\\S+', '', post).strip() for post in df['tweet']]\n",
    "        # remove any http urls\n",
    "        df['tweet'] = [re.sub(r'http\\S+', '', post).strip() for post in df['tweet']]\n",
    "\n",
    "        # instatiate the tokenizer\n",
    "        tknr = RegexpTokenizer(r'[a-zA-Z&0-9]+')\n",
    "        # start with empty lists\n",
    "        tokens = []\n",
    "        # fill the list with tokenized versions of each post title\n",
    "        for post in df['tweet']:\n",
    "            tokens.append(\" \".join(tknr.tokenize(post.lower())))\n",
    "        df['tweet'] = tokens\n",
    "\n",
    "        # drop duplicates\n",
    "        #df = df.drop_duplicates()\n",
    "\n",
    "        return df['tweet']"
   ]
  },
  {
   "cell_type": "code",
   "execution_count": 29,
   "metadata": {
    "scrolled": true
   },
   "outputs": [
    {
     "name": "stderr",
     "output_type": "stream",
     "text": [
      "INFO: queries: ['\"power outage\" OR \"power is out\" OR \"power\\'s out\" OR \"blackouts\" OR \"blackout\" -\"video game\" OR \"power failure\" OR \"power failures\" OR \"no electricity\" OR \"power shortage\" OR \"electrical failure\" OR \"power loss\" OR \"power cuts\" OR \"power cut\" OR \"power went out\" OR \"power interuption\" OR \"brownout\" OR \"power goes out\" OR \"brownouts\" OR \"without power\" near:\"California\" within:15mi -filter:retweets since:2019-11-08 until:2019-11-09']\n",
      "INFO: Querying \"power outage\" OR \"power is out\" OR \"power's out\" OR \"blackouts\" OR \"blackout\" -\"video game\" OR \"power failure\" OR \"power failures\" OR \"no electricity\" OR \"power shortage\" OR \"electrical failure\" OR \"power loss\" OR \"power cuts\" OR \"power cut\" OR \"power went out\" OR \"power interuption\" OR \"brownout\" OR \"power goes out\" OR \"brownouts\" OR \"without power\" near:\"California\" within:15mi -filter:retweets since:2019-11-08 until:2019-11-09\n",
      "INFO: Scraping tweets from https://twitter.com/search?f=tweets&vertical=default&q=\"power%20outage\"%20OR%20\"power%20is%20out\"%20OR%20\"power's%20out\"%20OR%20\"blackouts\"%20OR%20\"blackout\"%20-\"video%20game\"%20OR%20\"power%20failure\"%20OR%20\"power%20failures\"%20OR%20\"no%20electricity\"%20OR%20\"power%20shortage\"%20OR%20\"electrical%20failure\"%20OR%20\"power%20loss\"%20OR%20\"power%20cuts\"%20OR%20\"power%20cut\"%20OR%20\"power%20went%20out\"%20OR%20\"power%20interuption\"%20OR%20\"brownout\"%20OR%20\"power%20goes%20out\"%20OR%20\"brownouts\"%20OR%20\"without%20power\"%20near%3A\"California\"%20within%3A15mi%20-filter%3Aretweets%20since%3A2019-11-08%20until%3A2019-11-09&l=en\n",
      "INFO: Using proxy 108.61.186.207:8080\n",
      "INFO: Scraping tweets from https://twitter.com/i/search/timeline?f=tweets&vertical=default&include_available_features=1&include_entities=1&reset_error_state=false&src=typd&max_position=TWEET-1192809357617979392-1192953965572345856&q=\"power%20outage\"%20OR%20\"power%20is%20out\"%20OR%20\"power's%20out\"%20OR%20\"blackouts\"%20OR%20\"blackout\"%20-\"video%20game\"%20OR%20\"power%20failure\"%20OR%20\"power%20failures\"%20OR%20\"no%20electricity\"%20OR%20\"power%20shortage\"%20OR%20\"electrical%20failure\"%20OR%20\"power%20loss\"%20OR%20\"power%20cuts\"%20OR%20\"power%20cut\"%20OR%20\"power%20went%20out\"%20OR%20\"power%20interuption\"%20OR%20\"brownout\"%20OR%20\"power%20goes%20out\"%20OR%20\"brownouts\"%20OR%20\"without%20power\"%20near%3A\"California\"%20within%3A15mi%20-filter%3Aretweets%20since%3A2019-11-08%20until%3A2019-11-09&l=en\n",
      "INFO: Using proxy 187.33.226.82:30102\n",
      "INFO: Scraping tweets from https://twitter.com/i/search/timeline?f=tweets&vertical=default&include_available_features=1&include_entities=1&reset_error_state=false&src=typd&max_position=thGAVUV0VFVBaAgKfZz_LajSEWgMCq9fTTnI4hEjUAFQAlAFUAFQAA&q=\"power%20outage\"%20OR%20\"power%20is%20out\"%20OR%20\"power's%20out\"%20OR%20\"blackouts\"%20OR%20\"blackout\"%20-\"video%20game\"%20OR%20\"power%20failure\"%20OR%20\"power%20failures\"%20OR%20\"no%20electricity\"%20OR%20\"power%20shortage\"%20OR%20\"electrical%20failure\"%20OR%20\"power%20loss\"%20OR%20\"power%20cuts\"%20OR%20\"power%20cut\"%20OR%20\"power%20went%20out\"%20OR%20\"power%20interuption\"%20OR%20\"brownout\"%20OR%20\"power%20goes%20out\"%20OR%20\"brownouts\"%20OR%20\"without%20power\"%20near%3A\"California\"%20within%3A15mi%20-filter%3Aretweets%20since%3A2019-11-08%20until%3A2019-11-09&l=en\n",
      "INFO: Using proxy 3.15.217.158:8888\n",
      "INFO: Scraping tweets from https://twitter.com/i/search/timeline?f=tweets&vertical=default&include_available_features=1&include_entities=1&reset_error_state=false&src=typd&max_position=thGAVUV0VFVBaCwLXBou_5jCEWgMCq9fTTnI4hEjUAFQAlAFUAFQAA&q=\"power%20outage\"%20OR%20\"power%20is%20out\"%20OR%20\"power's%20out\"%20OR%20\"blackouts\"%20OR%20\"blackout\"%20-\"video%20game\"%20OR%20\"power%20failure\"%20OR%20\"power%20failures\"%20OR%20\"no%20electricity\"%20OR%20\"power%20shortage\"%20OR%20\"electrical%20failure\"%20OR%20\"power%20loss\"%20OR%20\"power%20cuts\"%20OR%20\"power%20cut\"%20OR%20\"power%20went%20out\"%20OR%20\"power%20interuption\"%20OR%20\"brownout\"%20OR%20\"power%20goes%20out\"%20OR%20\"brownouts\"%20OR%20\"without%20power\"%20near%3A\"California\"%20within%3A15mi%20-filter%3Aretweets%20since%3A2019-11-08%20until%3A2019-11-09&l=en\n",
      "INFO: Using proxy 117.102.119.150:47704\n",
      "INFO: Twitter returned : 'has_more_items' \n",
      "INFO: Got 52 tweets for \"power%20outage\"%20OR%20\"power%20is%20out\"%20OR%20\"power's%20out\"%20OR%20\"blackouts\"%20OR%20\"blackout\"%20-\"video%20game\"%20OR%20\"power%20failure\"%20OR%20\"power%20failures\"%20OR%20\"no%20electricity\"%20OR%20\"power%20shortage\"%20OR%20\"electrical%20failure\"%20OR%20\"power%20loss\"%20OR%20\"power%20cuts\"%20OR%20\"power%20cut\"%20OR%20\"power%20went%20out\"%20OR%20\"power%20interuption\"%20OR%20\"brownout\"%20OR%20\"power%20goes%20out\"%20OR%20\"brownouts\"%20OR%20\"without%20power\"%20near%3A\"California\"%20within%3A15mi%20-filter%3Aretweets%20since%3A2019-11-08%20until%3A2019-11-09.\n",
      "INFO: Got 52 tweets (52 new).\n"
     ]
    }
   ],
   "source": [
    "df = scrape_twitter('California')"
   ]
  },
  {
   "cell_type": "code",
   "execution_count": 30,
   "metadata": {},
   "outputs": [
    {
     "data": {
      "text/plain": [
       "(52,)"
      ]
     },
     "execution_count": 30,
     "metadata": {},
     "output_type": "execute_result"
    }
   ],
   "source": [
    "df.shape"
   ]
  },
  {
   "cell_type": "markdown",
   "metadata": {},
   "source": [
    "___\n",
    "Bring in our pickled model and run a prediction"
   ]
  },
  {
   "cell_type": "code",
   "execution_count": 12,
   "metadata": {},
   "outputs": [],
   "source": [
    "model = pickle.load(open('../Files/final_model.p', 'rb'))"
   ]
  },
  {
   "cell_type": "code",
   "execution_count": 13,
   "metadata": {
    "scrolled": true
   },
   "outputs": [],
   "source": [
    "prediction = model.predict_proba(df)"
   ]
  },
  {
   "cell_type": "code",
   "execution_count": 14,
   "metadata": {},
   "outputs": [
    {
     "data": {
      "text/plain": [
       "0.30866537937779914"
      ]
     },
     "execution_count": 14,
     "metadata": {},
     "output_type": "execute_result"
    }
   ],
   "source": [
    "avg_prob(prediction)"
   ]
  },
  {
   "cell_type": "code",
   "execution_count": 7,
   "metadata": {},
   "outputs": [
    {
     "ename": "NameError",
     "evalue": "name 'prediction' is not defined",
     "output_type": "error",
     "traceback": [
      "\u001b[0;31m---------------------------------------------------------------------------\u001b[0m",
      "\u001b[0;31mNameError\u001b[0m                                 Traceback (most recent call last)",
      "\u001b[0;32m<ipython-input-7-92a0e3b0efe9>\u001b[0m in \u001b[0;36m<module>\u001b[0;34m\u001b[0m\n\u001b[1;32m      5\u001b[0m     \u001b[0;32mreturn\u001b[0m \u001b[0mcounter\u001b[0m\u001b[0;34m/\u001b[0m\u001b[0mlen\u001b[0m\u001b[0;34m(\u001b[0m\u001b[0msome_array\u001b[0m\u001b[0;34m)\u001b[0m\u001b[0;34m\u001b[0m\u001b[0;34m\u001b[0m\u001b[0m\n\u001b[1;32m      6\u001b[0m \u001b[0;34m\u001b[0m\u001b[0m\n\u001b[0;32m----> 7\u001b[0;31m \u001b[0mavg_prob\u001b[0m\u001b[0;34m(\u001b[0m\u001b[0mprediction\u001b[0m\u001b[0;34m)\u001b[0m\u001b[0;34m\u001b[0m\u001b[0;34m\u001b[0m\u001b[0m\n\u001b[0m",
      "\u001b[0;31mNameError\u001b[0m: name 'prediction' is not defined"
     ]
    }
   ],
   "source": [
    "def avg_prob(some_array):\n",
    "    counter = 0\n",
    "    for i in some_array:\n",
    "        counter += i[1]\n",
    "    return counter/len(some_array)\n",
    "\n",
    "avg_prob(prediction)"
   ]
  },
  {
   "cell_type": "code",
   "execution_count": 7,
   "metadata": {},
   "outputs": [
    {
     "data": {
      "text/plain": [
       "array([[0.75, 0.25]])"
      ]
     },
     "execution_count": 7,
     "metadata": {},
     "output_type": "execute_result"
    }
   ],
   "source": [
    "model.predict_proba([clean_scrape(df)])"
   ]
  },
  {
   "cell_type": "code",
   "execution_count": 22,
   "metadata": {},
   "outputs": [
    {
     "name": "stdout",
     "output_type": "stream",
     "text": [
      "[0.16666667]\n"
     ]
    }
   ],
   "source": [
    "preds = []\n",
    "for tweet in df.drop_duplicates()['tweet']:\n",
    "    preds.append(model.predict([tweet]))\n",
    "    \n",
    "print(sum(preds)/len(preds))"
   ]
  },
  {
   "cell_type": "code",
   "execution_count": 23,
   "metadata": {
    "scrolled": true
   },
   "outputs": [
    {
     "name": "stderr",
     "output_type": "stream",
     "text": [
      "INFO: queries: ['\"power outage\" OR \"power is out\" OR \"power\\'s out\" OR \"blackouts\" OR \"blackout\" -\"video game\" OR \"power failure\" OR \"power failures\" OR \"no electricity\" OR \"power shortage\" OR \"electrical failure\" OR \"power loss\" OR \"power cuts\" OR \"power cut\" OR \"power went out\" OR \"power interuption\" OR \"brownout\" OR \"power goes out\" OR \"brownouts\" OR \"without power\" near:\"New York\" within:15mi -filter:retweets since:2019-11-07 until:2019-11-08']\n",
      "INFO: Querying \"power outage\" OR \"power is out\" OR \"power's out\" OR \"blackouts\" OR \"blackout\" -\"video game\" OR \"power failure\" OR \"power failures\" OR \"no electricity\" OR \"power shortage\" OR \"electrical failure\" OR \"power loss\" OR \"power cuts\" OR \"power cut\" OR \"power went out\" OR \"power interuption\" OR \"brownout\" OR \"power goes out\" OR \"brownouts\" OR \"without power\" near:\"New York\" within:15mi -filter:retweets since:2019-11-07 until:2019-11-08\n",
      "INFO: Scraping tweets from https://twitter.com/search?f=tweets&vertical=default&q=\"power%20outage\"%20OR%20\"power%20is%20out\"%20OR%20\"power's%20out\"%20OR%20\"blackouts\"%20OR%20\"blackout\"%20-\"video%20game\"%20OR%20\"power%20failure\"%20OR%20\"power%20failures\"%20OR%20\"no%20electricity\"%20OR%20\"power%20shortage\"%20OR%20\"electrical%20failure\"%20OR%20\"power%20loss\"%20OR%20\"power%20cuts\"%20OR%20\"power%20cut\"%20OR%20\"power%20went%20out\"%20OR%20\"power%20interuption\"%20OR%20\"brownout\"%20OR%20\"power%20goes%20out\"%20OR%20\"brownouts\"%20OR%20\"without%20power\"%20near%3A\"New%20York\"%20within%3A15mi%20-filter%3Aretweets%20since%3A2019-11-07%20until%3A2019-11-08&l=en\n",
      "INFO: Using proxy 41.217.217.1:55866\n",
      "INFO: Scraping tweets from https://twitter.com/i/search/timeline?f=tweets&vertical=default&include_available_features=1&include_entities=1&reset_error_state=false&src=typd&max_position=TWEET-1192435025020628992-1192487407939194880&q=\"power%20outage\"%20OR%20\"power%20is%20out\"%20OR%20\"power's%20out\"%20OR%20\"blackouts\"%20OR%20\"blackout\"%20-\"video%20game\"%20OR%20\"power%20failure\"%20OR%20\"power%20failures\"%20OR%20\"no%20electricity\"%20OR%20\"power%20shortage\"%20OR%20\"electrical%20failure\"%20OR%20\"power%20loss\"%20OR%20\"power%20cuts\"%20OR%20\"power%20cut\"%20OR%20\"power%20went%20out\"%20OR%20\"power%20interuption\"%20OR%20\"brownout\"%20OR%20\"power%20goes%20out\"%20OR%20\"brownouts\"%20OR%20\"without%20power\"%20near%3A\"New%20York\"%20within%3A15mi%20-filter%3Aretweets%20since%3A2019-11-07%20until%3A2019-11-08&l=en\n",
      "INFO: Using proxy 103.43.203.225:53281\n",
      "INFO: Scraping tweets from https://twitter.com/i/search/timeline?f=tweets&vertical=default&include_available_features=1&include_entities=1&reset_error_state=false&src=typd&max_position=thGAVUV0VFVBaAwLXBzNWwjCEWgMC81de-yIwhEjUAFQAlAFUAFQAA&q=\"power%20outage\"%20OR%20\"power%20is%20out\"%20OR%20\"power's%20out\"%20OR%20\"blackouts\"%20OR%20\"blackout\"%20-\"video%20game\"%20OR%20\"power%20failure\"%20OR%20\"power%20failures\"%20OR%20\"no%20electricity\"%20OR%20\"power%20shortage\"%20OR%20\"electrical%20failure\"%20OR%20\"power%20loss\"%20OR%20\"power%20cuts\"%20OR%20\"power%20cut\"%20OR%20\"power%20went%20out\"%20OR%20\"power%20interuption\"%20OR%20\"brownout\"%20OR%20\"power%20goes%20out\"%20OR%20\"brownouts\"%20OR%20\"without%20power\"%20near%3A\"New%20York\"%20within%3A15mi%20-filter%3Aretweets%20since%3A2019-11-07%20until%3A2019-11-08&l=en\n",
      "INFO: Using proxy 200.32.51.179:8080\n",
      "INFO: Scraping tweets from https://twitter.com/i/search/timeline?f=tweets&vertical=default&include_available_features=1&include_entities=1&reset_error_state=false&src=typd&max_position=thGAVUV0VFVBaAwLSJqajuiyEWgMC81de-yIwhEjUAFQAlAFUAFQAA&q=\"power%20outage\"%20OR%20\"power%20is%20out\"%20OR%20\"power's%20out\"%20OR%20\"blackouts\"%20OR%20\"blackout\"%20-\"video%20game\"%20OR%20\"power%20failure\"%20OR%20\"power%20failures\"%20OR%20\"no%20electricity\"%20OR%20\"power%20shortage\"%20OR%20\"electrical%20failure\"%20OR%20\"power%20loss\"%20OR%20\"power%20cuts\"%20OR%20\"power%20cut\"%20OR%20\"power%20went%20out\"%20OR%20\"power%20interuption\"%20OR%20\"brownout\"%20OR%20\"power%20goes%20out\"%20OR%20\"brownouts\"%20OR%20\"without%20power\"%20near%3A\"New%20York\"%20within%3A15mi%20-filter%3Aretweets%20since%3A2019-11-07%20until%3A2019-11-08&l=en\n",
      "INFO: Using proxy 5.196.132.114:3128\n",
      "INFO: Scraping tweets from https://twitter.com/i/search/timeline?f=tweets&vertical=default&include_available_features=1&include_entities=1&reset_error_state=false&src=typd&max_position=thGAVUV0VFVBaAwKadp_vTiyEWgMC81de-yIwhEjUAFQAlAFUAFQAA&q=\"power%20outage\"%20OR%20\"power%20is%20out\"%20OR%20\"power's%20out\"%20OR%20\"blackouts\"%20OR%20\"blackout\"%20-\"video%20game\"%20OR%20\"power%20failure\"%20OR%20\"power%20failures\"%20OR%20\"no%20electricity\"%20OR%20\"power%20shortage\"%20OR%20\"electrical%20failure\"%20OR%20\"power%20loss\"%20OR%20\"power%20cuts\"%20OR%20\"power%20cut\"%20OR%20\"power%20went%20out\"%20OR%20\"power%20interuption\"%20OR%20\"brownout\"%20OR%20\"power%20goes%20out\"%20OR%20\"brownouts\"%20OR%20\"without%20power\"%20near%3A\"New%20York\"%20within%3A15mi%20-filter%3Aretweets%20since%3A2019-11-07%20until%3A2019-11-08&l=en\n",
      "INFO: Using proxy 45.64.9.126:80\n",
      "INFO: Twitter returned : 'has_more_items' \n",
      "INFO: Got 77 tweets for \"power%20outage\"%20OR%20\"power%20is%20out\"%20OR%20\"power's%20out\"%20OR%20\"blackouts\"%20OR%20\"blackout\"%20-\"video%20game\"%20OR%20\"power%20failure\"%20OR%20\"power%20failures\"%20OR%20\"no%20electricity\"%20OR%20\"power%20shortage\"%20OR%20\"electrical%20failure\"%20OR%20\"power%20loss\"%20OR%20\"power%20cuts\"%20OR%20\"power%20cut\"%20OR%20\"power%20went%20out\"%20OR%20\"power%20interuption\"%20OR%20\"brownout\"%20OR%20\"power%20goes%20out\"%20OR%20\"brownouts\"%20OR%20\"without%20power\"%20near%3A\"New%20York\"%20within%3A15mi%20-filter%3Aretweets%20since%3A2019-11-07%20until%3A2019-11-08.\n",
      "INFO: Got 77 tweets (77 new).\n"
     ]
    },
    {
     "name": "stdout",
     "output_type": "stream",
     "text": [
      "[0]\n",
      "[[0.75 0.25]]\n"
     ]
    }
   ],
   "source": [
    "# New York\n",
    "df = scrape_twitter('New York')\n",
    "print(model.predict([clean_scrape(df)]))\n",
    "print(model.predict_proba([clean_scrape(df)]))"
   ]
  },
  {
   "cell_type": "code",
   "execution_count": 24,
   "metadata": {},
   "outputs": [
    {
     "name": "stdout",
     "output_type": "stream",
     "text": [
      "[0.22807018]\n"
     ]
    }
   ],
   "source": [
    "preds = []\n",
    "for tweet in df.drop_duplicates()['tweet']:\n",
    "    preds.append(model.predict([tweet]))\n",
    "    \n",
    "print(sum(preds)/len(preds))"
   ]
  },
  {
   "cell_type": "code",
   "execution_count": 25,
   "metadata": {
    "scrolled": true
   },
   "outputs": [
    {
     "data": {
      "text/plain": [
       "'wait did a bobcat cause your power outage i literally just tweeted the same thing last night it sounds conspiratorial but feels very much part of the broad media blackout on the sanders campaign designed to confuse voters into thinking that she is the real threat i can t wait to blackout by 4pm on saturday me blackout drunk when my friend asks if i want a patr n shot so a blackout drunk rapist with gambling debts is considered a life to emulate no wonder the gop is so rotten appropriately for a brand that once created a blackout in a can four loko s hard seltzer will be 12 abv pg&e says wildfires the bankruptcy case blackouts and other expenses will cost up to 6 3 billion this year those things really start to add up and that doesn t even include the kincade fire by markchediak willwwade pcg nwcnewstream nwc operations now being restored after jpsco power outage sections of st catherine and st andrew affected nwcnewstream nwc operations now being restored after jpsco power outage sections of st catherine and st andrew affected the national water commission nwc is advising that its eastern headworks systems in st catherine are now being restarted blackout album was her best haha stark contrast between this quarter and dish s 3q 2018 loss of 300k subs shows how impactful last year s univision blackout was on dish s subscriber base up close and personal with the one and only tia at the all black power outage 4sixty6 caterers the beautiful chyna and i at the all black power outage 4sixty6 caterers that s my gangsta beasiababy at the all black power outage 4sixty6 caterers there goes my beasiababy at the all black power outage 4sixty6 caterers me and the one and only bosses kitten at the all black power outage 4sixty6 caterers i really think i ve been in a better mood because of these blackout curtains i bought dish gains 148 000 tv subscribers in q3 despite continuing hbo blackout via variety my boos bosses kitten and beautifully jai at the all black power outage 4sixty6 caterers dish gains 148 000 tv subscribers in q3 despite continuing hbo blackout wait did a bobcat cause your power outage i literally just tweeted the same thing last night it sounds conspiratorial but feels very much part of the broad media blackout on the sanders campaign designed to confuse voters into thinking that she is the real threat i can t wait to blackout by 4pm on saturday me blackout drunk when my friend asks if i want a patr n shot so a blackout drunk rapist with gambling debts is considered a life to emulate no wonder the gop is so rotten appropriately for a brand that once created a blackout in a can four loko s hard seltzer will be 12 abv pg&e says wildfires the bankruptcy case blackouts and other expenses will cost up to 6 3 billion this year those things really start to add up and that doesn t even include the kincade fire by markchediak willwwade pcg nwcnewstream nwc operations now being restored after jpsco power outage sections of st catherine and st andrew affected nwcnewstream nwc operations now being restored after jpsco power outage sections of st catherine and st andrew affected the national water commission nwc is advising that its eastern headworks systems in st catherine are now being restarted blackout album was her best haha stark contrast between this quarter and dish s 3q 2018 loss of 300k subs shows how impactful last year s univision blackout was on dish s subscriber base up close and personal with the one and only tia at the all black power outage 4sixty6 caterers the beautiful chyna and i at the all black power outage 4sixty6 caterers that s my gangsta beasiababy at the all black power outage 4sixty6 caterers there goes my beasiababy at the all black power outage 4sixty6 caterers me and the one and only bosses kitten at the all black power outage 4sixty6 caterers i really think i ve been in a better mood because of these blackout curtains i bought dish gains 148 000 tv subscribers in q3 despite continuing hbo blackout via variety my boos bosses kitten and beautifully jai at the all black power outage 4sixty6 caterers dish gains 148 000 tv subscribers in q3 despite continuing hbo blackout tia looking good as hell at the all black power outage 4sixty6 caterers treyarch what s up with the blackout servers this am i love this game please fix it me and my friend nicole at the all black power outage 4sixty6 caterers iraq s internet blackout continues amid violent anti gov t protests baghdad next tent capital give it 20 years you ll have rolling blackouts me and my awesome friend at the all black power outage 4sixty6 caterers kat von d defends her new blackout tattoo while critics call it a waste of skin should they be expecting poor forestry management roving blackouts failed capital projects tax increases high homeless rates crazy gas prices basically will kentucky become a shithole that s not a good thing what are you saying poverty homelessness blackouts radical liberals and wildfires is what they have to look forward to democratic policies ruin everything they touch alt923radio i want to hear mikeshinoda s newest single fine from the original soundtrack of the upcoming movie the blackout avanpost outpostfilm theblackoutmovie2019 moviesoundtrack mikeshinodafine mikeshinoda fine again if being a privileged blackout drunk who sexually abused women only to have adults clean up the mess an admirable life but when you are telegraphing to said person it s payback time this really makes you wonder if it was a mistake just liken18 yrs ago and there was a huge blackout in certain parts around the country at 1 16 a m my body decided that it has had enough what a piece a blackout me mumma from the blackout documentary how long are these planned blackouts i guess if the utility makes us go back to candle light then we should go back to using horses to get around amish lead the way enter the blackout four loko hard seltzer is here blackout p t 3 nbc as california burns generator companies make a power grab when pacific gas and electric announced in september that it was implementing rolling blackouts power outage on southern end of san francisco affects over 5 000 residents cbs san francisco 22gz type beat 2019 block wars via youtube its a brooklyn thing have you heard block wars by blackoutondabeat on soundcloud np or new upload check it new update 1 25 cod blackout live call of duty black ops 4 support the channel my donation link is 97 of the donation goes to rara please consider leaving a like and engaging in chat in the three seconds the power is out in your subway car blackout curtains also on my list i can t wait to have them alcohol induced blackouts are a sign of alcohol abuse but they are not necessarily a sign of alcoholism ok i was planning on getting drunk tomorrow i m lying i totally was but after these 3 tests i m ready to blackout re downloaded bumble tonight for the first time in a while within minutes of downloading see recent ex and swipe no then app experiences multi city blackout ladies thank me later yall not missin out he s just sticking to the easy fights to rile up his followers notice how he never mentions sanders absolutely trying to blackout bernie because he stands no chance against him solar power interest is surging after california blackouts ceo says by mckenziestrat okay there is a blackout in my town and mi phone is dying why god i wanted to watch teotfw the blackouts have been a challenge for us not in providing care since we have a lot of practice in that during disasters here but in all the tertiary stuff like calling in extra staff emergency meals and not having laundry because the power is out but does he know that britney s blackout is in vinyl haha ohio state did a blackout that game that s the point but also yes fuck the browns smh andrewyang is not being covered by the news democratic national committee andrew yang media blackout sign the petition via change committee formed by wh says us national campgrounds are an underperforming asset they recommend food trucks & blackout dates for seniors because they pay less serious do the 1 ers not value natural beauty or since they have their private islands they re good russian interference in the 2016 election has some worried that the 2020 election may be susceptible to hacking to prepare for some of the worst case cyber attack scenarios intelligence officials attended a simulation called operation blackout bpopken was there do u know demoralizes ppl the fact bruce ohr still works at doj that not 1 democrat or deep state bureaucrat has been prosecuted let alone called out by media they ve delayed report to come out when no 1 is paying attention now w impeachment msm has reason to it blackout'"
      ]
     },
     "execution_count": 25,
     "metadata": {},
     "output_type": "execute_result"
    }
   ],
   "source": [
    "clean_scrape(df)"
   ]
  },
  {
   "cell_type": "code",
   "execution_count": 30,
   "metadata": {},
   "outputs": [
    {
     "data": {
      "text/plain": [
       "array([[0.51388889, 0.48611111]])"
      ]
     },
     "execution_count": 30,
     "metadata": {},
     "output_type": "execute_result"
    }
   ],
   "source": [
    "tweet1= df['tweet'][0]\n",
    "tweet2= df['tweet'][1]\n",
    "tweet3= df['tweet'][2]\n",
    "model.predict_proba([tweet1 + tweet2 + tweet3])"
   ]
  },
  {
   "cell_type": "code",
   "execution_count": 28,
   "metadata": {},
   "outputs": [
    {
     "data": {
      "text/plain": [
       "array([[0.71590909, 0.28409091]])"
      ]
     },
     "execution_count": 28,
     "metadata": {},
     "output_type": "execute_result"
    }
   ],
   "source": [
    "model.predict_proba([tweet1])"
   ]
  },
  {
   "cell_type": "code",
   "execution_count": 29,
   "metadata": {},
   "outputs": [
    {
     "data": {
      "text/plain": [
       "array([[0.625, 0.375]])"
      ]
     },
     "execution_count": 29,
     "metadata": {},
     "output_type": "execute_result"
    }
   ],
   "source": [
    "model.predict_proba([tweet2])"
   ]
  },
  {
   "cell_type": "code",
   "execution_count": 31,
   "metadata": {},
   "outputs": [
    {
     "data": {
      "text/plain": [
       "array([[0.26858836, 0.73141164]])"
      ]
     },
     "execution_count": 31,
     "metadata": {},
     "output_type": "execute_result"
    }
   ],
   "source": [
    "model.predict_proba([tweet3])"
   ]
  },
  {
   "cell_type": "code",
   "execution_count": 36,
   "metadata": {},
   "outputs": [
    {
     "data": {
      "text/plain": [
       "0.4635008490073145"
      ]
     },
     "execution_count": 36,
     "metadata": {},
     "output_type": "execute_result"
    }
   ],
   "source": [
    "(model.predict_proba([tweet1])[0][1] +model.predict_proba([tweet2])[0][1] + model.predict_proba([tweet3])[0][1])/3"
   ]
  },
  {
   "cell_type": "code",
   "execution_count": 38,
   "metadata": {},
   "outputs": [
    {
     "data": {
      "text/plain": [
       "0.39003812273359606"
      ]
     },
     "execution_count": 38,
     "metadata": {},
     "output_type": "execute_result"
    }
   ],
   "source": [
    "preds_proba = []\n",
    "for tweet in df.drop_duplicates()['tweet']:\n",
    "    preds_proba.append(model.predict_proba([tweet])[0][1])\n",
    "    \n",
    "sum(preds_proba)/len(preds_proba)"
   ]
  },
  {
   "cell_type": "code",
   "execution_count": 39,
   "metadata": {
    "scrolled": true
   },
   "outputs": [
    {
     "name": "stderr",
     "output_type": "stream",
     "text": [
      "INFO: queries: ['\"power outage\" OR \"power is out\" OR \"power\\'s out\" OR \"blackouts\" OR \"blackout\" -\"video game\" OR \"power failure\" OR \"power failures\" OR \"no electricity\" OR \"power shortage\" OR \"electrical failure\" OR \"power loss\" OR \"power cuts\" OR \"power cut\" OR \"power went out\" OR \"power interuption\" OR \"brownout\" OR \"power goes out\" OR \"brownouts\" OR \"without power\" near:\"Michigan\" within:15mi -filter:retweets since:2019-11-07 until:2019-11-08']\n",
      "INFO: Querying \"power outage\" OR \"power is out\" OR \"power's out\" OR \"blackouts\" OR \"blackout\" -\"video game\" OR \"power failure\" OR \"power failures\" OR \"no electricity\" OR \"power shortage\" OR \"electrical failure\" OR \"power loss\" OR \"power cuts\" OR \"power cut\" OR \"power went out\" OR \"power interuption\" OR \"brownout\" OR \"power goes out\" OR \"brownouts\" OR \"without power\" near:\"Michigan\" within:15mi -filter:retweets since:2019-11-07 until:2019-11-08\n",
      "INFO: Scraping tweets from https://twitter.com/search?f=tweets&vertical=default&q=\"power%20outage\"%20OR%20\"power%20is%20out\"%20OR%20\"power's%20out\"%20OR%20\"blackouts\"%20OR%20\"blackout\"%20-\"video%20game\"%20OR%20\"power%20failure\"%20OR%20\"power%20failures\"%20OR%20\"no%20electricity\"%20OR%20\"power%20shortage\"%20OR%20\"electrical%20failure\"%20OR%20\"power%20loss\"%20OR%20\"power%20cuts\"%20OR%20\"power%20cut\"%20OR%20\"power%20went%20out\"%20OR%20\"power%20interuption\"%20OR%20\"brownout\"%20OR%20\"power%20goes%20out\"%20OR%20\"brownouts\"%20OR%20\"without%20power\"%20near%3A\"Michigan\"%20within%3A15mi%20-filter%3Aretweets%20since%3A2019-11-07%20until%3A2019-11-08&l=en\n",
      "INFO: Using proxy 41.217.217.1:55866\n",
      "INFO: Scraping tweets from https://twitter.com/i/search/timeline?f=tweets&vertical=default&include_available_features=1&include_entities=1&reset_error_state=false&src=typd&max_position=TWEET-1192262848036163585-1192515367077318656&q=\"power%20outage\"%20OR%20\"power%20is%20out\"%20OR%20\"power's%20out\"%20OR%20\"blackouts\"%20OR%20\"blackout\"%20-\"video%20game\"%20OR%20\"power%20failure\"%20OR%20\"power%20failures\"%20OR%20\"no%20electricity\"%20OR%20\"power%20shortage\"%20OR%20\"electrical%20failure\"%20OR%20\"power%20loss\"%20OR%20\"power%20cuts\"%20OR%20\"power%20cut\"%20OR%20\"power%20went%20out\"%20OR%20\"power%20interuption\"%20OR%20\"brownout\"%20OR%20\"power%20goes%20out\"%20OR%20\"brownouts\"%20OR%20\"without%20power\"%20near%3A\"Michigan\"%20within%3A15mi%20-filter%3Aretweets%20since%3A2019-11-07%20until%3A2019-11-08&l=en\n",
      "INFO: Using proxy 103.43.203.225:53281\n",
      "INFO: Scraping tweets from https://twitter.com/i/search/timeline?f=tweets&vertical=default&include_available_features=1&include_entities=1&reset_error_state=false&src=typd&max_position=thGAVUV0VFVBaCwLqByq_iiyEWgMC0vY-a1YwhEjUAFQAlAFUAFQAA&q=\"power%20outage\"%20OR%20\"power%20is%20out\"%20OR%20\"power's%20out\"%20OR%20\"blackouts\"%20OR%20\"blackout\"%20-\"video%20game\"%20OR%20\"power%20failure\"%20OR%20\"power%20failures\"%20OR%20\"no%20electricity\"%20OR%20\"power%20shortage\"%20OR%20\"electrical%20failure\"%20OR%20\"power%20loss\"%20OR%20\"power%20cuts\"%20OR%20\"power%20cut\"%20OR%20\"power%20went%20out\"%20OR%20\"power%20interuption\"%20OR%20\"brownout\"%20OR%20\"power%20goes%20out\"%20OR%20\"brownouts\"%20OR%20\"without%20power\"%20near%3A\"Michigan\"%20within%3A15mi%20-filter%3Aretweets%20since%3A2019-11-07%20until%3A2019-11-08&l=en\n",
      "INFO: Using proxy 200.32.51.179:8080\n",
      "INFO: Twitter returned : 'has_more_items' \n",
      "INFO: Got 12 tweets for \"power%20outage\"%20OR%20\"power%20is%20out\"%20OR%20\"power's%20out\"%20OR%20\"blackouts\"%20OR%20\"blackout\"%20-\"video%20game\"%20OR%20\"power%20failure\"%20OR%20\"power%20failures\"%20OR%20\"no%20electricity\"%20OR%20\"power%20shortage\"%20OR%20\"electrical%20failure\"%20OR%20\"power%20loss\"%20OR%20\"power%20cuts\"%20OR%20\"power%20cut\"%20OR%20\"power%20went%20out\"%20OR%20\"power%20interuption\"%20OR%20\"brownout\"%20OR%20\"power%20goes%20out\"%20OR%20\"brownouts\"%20OR%20\"without%20power\"%20near%3A\"Michigan\"%20within%3A15mi%20-filter%3Aretweets%20since%3A2019-11-07%20until%3A2019-11-08.\n",
      "INFO: Got 12 tweets (12 new).\n"
     ]
    }
   ],
   "source": [
    "# Michigan\n",
    "df = scrape_twitter('Michigan')"
   ]
  },
  {
   "cell_type": "code",
   "execution_count": 40,
   "metadata": {},
   "outputs": [
    {
     "data": {
      "text/html": [
       "<div>\n",
       "<style scoped>\n",
       "    .dataframe tbody tr th:only-of-type {\n",
       "        vertical-align: middle;\n",
       "    }\n",
       "\n",
       "    .dataframe tbody tr th {\n",
       "        vertical-align: top;\n",
       "    }\n",
       "\n",
       "    .dataframe thead th {\n",
       "        text-align: right;\n",
       "    }\n",
       "</style>\n",
       "<table border=\"1\" class=\"dataframe\">\n",
       "  <thead>\n",
       "    <tr style=\"text-align: right;\">\n",
       "      <th></th>\n",
       "      <th>tweet</th>\n",
       "      <th>location</th>\n",
       "      <th>time_stamp</th>\n",
       "    </tr>\n",
       "  </thead>\n",
       "  <tbody>\n",
       "    <tr>\n",
       "      <td>0</td>\n",
       "      <td>Blackout*</td>\n",
       "      <td>Michigan</td>\n",
       "      <td>2019-11-07 18:53:14</td>\n",
       "    </tr>\n",
       "    <tr>\n",
       "      <td>1</td>\n",
       "      <td>Going live very soon!! Come hang out at http:/...</td>\n",
       "      <td>Michigan</td>\n",
       "      <td>2019-11-07 15:03:27</td>\n",
       "    </tr>\n",
       "    <tr>\n",
       "      <td>2</td>\n",
       "      <td>Don't give @arobach too much credit here. The ...</td>\n",
       "      <td>Michigan</td>\n",
       "      <td>2019-11-07 14:57:05</td>\n",
       "    </tr>\n",
       "    <tr>\n",
       "      <td>3</td>\n",
       "      <td>BREAKING: Lindsey Graham is proud of sexual as...</td>\n",
       "      <td>Michigan</td>\n",
       "      <td>2019-11-07 14:05:33</td>\n",
       "    </tr>\n",
       "    <tr>\n",
       "      <td>4</td>\n",
       "      <td>I'm thinking early[ish] morning stream tomorro...</td>\n",
       "      <td>Michigan</td>\n",
       "      <td>2019-11-07 06:34:06</td>\n",
       "    </tr>\n",
       "  </tbody>\n",
       "</table>\n",
       "</div>"
      ],
      "text/plain": [
       "                                               tweet  location  \\\n",
       "0                                          Blackout*  Michigan   \n",
       "1  Going live very soon!! Come hang out at http:/...  Michigan   \n",
       "2  Don't give @arobach too much credit here. The ...  Michigan   \n",
       "3  BREAKING: Lindsey Graham is proud of sexual as...  Michigan   \n",
       "4  I'm thinking early[ish] morning stream tomorro...  Michigan   \n",
       "\n",
       "           time_stamp  \n",
       "0 2019-11-07 18:53:14  \n",
       "1 2019-11-07 15:03:27  \n",
       "2 2019-11-07 14:57:05  \n",
       "3 2019-11-07 14:05:33  \n",
       "4 2019-11-07 06:34:06  "
      ]
     },
     "execution_count": 40,
     "metadata": {},
     "output_type": "execute_result"
    }
   ],
   "source": [
    "df.head()"
   ]
  },
  {
   "cell_type": "code",
   "execution_count": 44,
   "metadata": {},
   "outputs": [
    {
     "data": {
      "text/plain": [
       "array([[0.375, 0.625]])"
      ]
     },
     "execution_count": 44,
     "metadata": {},
     "output_type": "execute_result"
    }
   ],
   "source": [
    "model.predict_proba([clean_scrape(df)])"
   ]
  },
  {
   "cell_type": "code",
   "execution_count": 42,
   "metadata": {},
   "outputs": [
    {
     "data": {
      "text/html": [
       "<div>\n",
       "<style scoped>\n",
       "    .dataframe tbody tr th:only-of-type {\n",
       "        vertical-align: middle;\n",
       "    }\n",
       "\n",
       "    .dataframe tbody tr th {\n",
       "        vertical-align: top;\n",
       "    }\n",
       "\n",
       "    .dataframe thead th {\n",
       "        text-align: right;\n",
       "    }\n",
       "</style>\n",
       "<table border=\"1\" class=\"dataframe\">\n",
       "  <thead>\n",
       "    <tr style=\"text-align: right;\">\n",
       "      <th></th>\n",
       "      <th>tweet</th>\n",
       "      <th>location</th>\n",
       "      <th>time_stamp</th>\n",
       "    </tr>\n",
       "  </thead>\n",
       "  <tbody>\n",
       "    <tr>\n",
       "      <td>0</td>\n",
       "      <td>blackout</td>\n",
       "      <td>Michigan</td>\n",
       "      <td>2019-11-07 18:53:14</td>\n",
       "    </tr>\n",
       "    <tr>\n",
       "      <td>1</td>\n",
       "      <td>going live very soon come hang out at gonna st...</td>\n",
       "      <td>Michigan</td>\n",
       "      <td>2019-11-07 15:03:27</td>\n",
       "    </tr>\n",
       "    <tr>\n",
       "      <td>2</td>\n",
       "      <td>don t give arobach too much credit here the vi...</td>\n",
       "      <td>Michigan</td>\n",
       "      <td>2019-11-07 14:57:05</td>\n",
       "    </tr>\n",
       "    <tr>\n",
       "      <td>3</td>\n",
       "      <td>breaking lindsey graham is proud of sexual ass...</td>\n",
       "      <td>Michigan</td>\n",
       "      <td>2019-11-07 14:05:33</td>\n",
       "    </tr>\n",
       "    <tr>\n",
       "      <td>4</td>\n",
       "      <td>i m thinking early ish morning stream tomorrow...</td>\n",
       "      <td>Michigan</td>\n",
       "      <td>2019-11-07 06:34:06</td>\n",
       "    </tr>\n",
       "  </tbody>\n",
       "</table>\n",
       "</div>"
      ],
      "text/plain": [
       "                                               tweet  location  \\\n",
       "0                                           blackout  Michigan   \n",
       "1  going live very soon come hang out at gonna st...  Michigan   \n",
       "2  don t give arobach too much credit here the vi...  Michigan   \n",
       "3  breaking lindsey graham is proud of sexual ass...  Michigan   \n",
       "4  i m thinking early ish morning stream tomorrow...  Michigan   \n",
       "\n",
       "           time_stamp  \n",
       "0 2019-11-07 18:53:14  \n",
       "1 2019-11-07 15:03:27  \n",
       "2 2019-11-07 14:57:05  \n",
       "3 2019-11-07 14:05:33  \n",
       "4 2019-11-07 06:34:06  "
      ]
     },
     "execution_count": 42,
     "metadata": {},
     "output_type": "execute_result"
    }
   ],
   "source": [
    "df.head()"
   ]
  },
  {
   "cell_type": "code",
   "execution_count": 43,
   "metadata": {},
   "outputs": [
    {
     "data": {
      "text/plain": [
       "0.4211761979305609"
      ]
     },
     "execution_count": 43,
     "metadata": {},
     "output_type": "execute_result"
    }
   ],
   "source": [
    "preds_proba = []\n",
    "for tweet in df.drop_duplicates()['tweet']:\n",
    "    preds_proba.append(model.predict_proba([tweet])[0][1])\n",
    "    \n",
    "sum(preds_proba)/len(preds_proba)"
   ]
  },
  {
   "cell_type": "code",
   "execution_count": 45,
   "metadata": {
    "scrolled": true
   },
   "outputs": [
    {
     "name": "stderr",
     "output_type": "stream",
     "text": [
      "INFO: queries: ['\"power outage\" OR \"power is out\" OR \"power\\'s out\" OR \"blackouts\" OR \"blackout\" -\"video game\" OR \"power failure\" OR \"power failures\" OR \"no electricity\" OR \"power shortage\" OR \"electrical failure\" OR \"power loss\" OR \"power cuts\" OR \"power cut\" OR \"power went out\" OR \"power interuption\" OR \"brownout\" OR \"power goes out\" OR \"brownouts\" OR \"without power\" near:\"California\" within:15mi -filter:retweets since:2019-11-07 until:2019-11-08']\n",
      "INFO: Querying \"power outage\" OR \"power is out\" OR \"power's out\" OR \"blackouts\" OR \"blackout\" -\"video game\" OR \"power failure\" OR \"power failures\" OR \"no electricity\" OR \"power shortage\" OR \"electrical failure\" OR \"power loss\" OR \"power cuts\" OR \"power cut\" OR \"power went out\" OR \"power interuption\" OR \"brownout\" OR \"power goes out\" OR \"brownouts\" OR \"without power\" near:\"California\" within:15mi -filter:retweets since:2019-11-07 until:2019-11-08\n",
      "INFO: Scraping tweets from https://twitter.com/search?f=tweets&vertical=default&q=\"power%20outage\"%20OR%20\"power%20is%20out\"%20OR%20\"power's%20out\"%20OR%20\"blackouts\"%20OR%20\"blackout\"%20-\"video%20game\"%20OR%20\"power%20failure\"%20OR%20\"power%20failures\"%20OR%20\"no%20electricity\"%20OR%20\"power%20shortage\"%20OR%20\"electrical%20failure\"%20OR%20\"power%20loss\"%20OR%20\"power%20cuts\"%20OR%20\"power%20cut\"%20OR%20\"power%20went%20out\"%20OR%20\"power%20interuption\"%20OR%20\"brownout\"%20OR%20\"power%20goes%20out\"%20OR%20\"brownouts\"%20OR%20\"without%20power\"%20near%3A\"California\"%20within%3A15mi%20-filter%3Aretweets%20since%3A2019-11-07%20until%3A2019-11-08&l=en\n",
      "INFO: Using proxy 41.217.217.1:55866\n",
      "INFO: Scraping tweets from https://twitter.com/i/search/timeline?f=tweets&vertical=default&include_available_features=1&include_entities=1&reset_error_state=false&src=typd&max_position=TWEET-1192293762866634753-1192518344236130304&q=\"power%20outage\"%20OR%20\"power%20is%20out\"%20OR%20\"power's%20out\"%20OR%20\"blackouts\"%20OR%20\"blackout\"%20-\"video%20game\"%20OR%20\"power%20failure\"%20OR%20\"power%20failures\"%20OR%20\"no%20electricity\"%20OR%20\"power%20shortage\"%20OR%20\"electrical%20failure\"%20OR%20\"power%20loss\"%20OR%20\"power%20cuts\"%20OR%20\"power%20cut\"%20OR%20\"power%20went%20out\"%20OR%20\"power%20interuption\"%20OR%20\"brownout\"%20OR%20\"power%20goes%20out\"%20OR%20\"brownouts\"%20OR%20\"without%20power\"%20near%3A\"California\"%20within%3A15mi%20-filter%3Aretweets%20since%3A2019-11-07%20until%3A2019-11-08&l=en\n",
      "INFO: Using proxy 103.43.203.225:53281\n",
      "INFO: Scraping tweets from https://twitter.com/i/search/timeline?f=tweets&vertical=default&include_available_features=1&include_entities=1&reset_error_state=false&src=typd&max_position=thGAVUV0VFVBaCgKO5h7fwiyEWgICnhbXH1owhEjUAFQAlAFUAFQAA&q=\"power%20outage\"%20OR%20\"power%20is%20out\"%20OR%20\"power's%20out\"%20OR%20\"blackouts\"%20OR%20\"blackout\"%20-\"video%20game\"%20OR%20\"power%20failure\"%20OR%20\"power%20failures\"%20OR%20\"no%20electricity\"%20OR%20\"power%20shortage\"%20OR%20\"electrical%20failure\"%20OR%20\"power%20loss\"%20OR%20\"power%20cuts\"%20OR%20\"power%20cut\"%20OR%20\"power%20went%20out\"%20OR%20\"power%20interuption\"%20OR%20\"brownout\"%20OR%20\"power%20goes%20out\"%20OR%20\"brownouts\"%20OR%20\"without%20power\"%20near%3A\"California\"%20within%3A15mi%20-filter%3Aretweets%20since%3A2019-11-07%20until%3A2019-11-08&l=en\n",
      "INFO: Using proxy 200.32.51.179:8080\n",
      "INFO: Scraping tweets from https://twitter.com/i/search/timeline?f=tweets&vertical=default&include_available_features=1&include_entities=1&reset_error_state=false&src=typd&max_position=thGAVUV0VFVBaEwKe5jLHViyEWgICnhbXH1owhEjUAFQAlAFUAFQAA&q=\"power%20outage\"%20OR%20\"power%20is%20out\"%20OR%20\"power's%20out\"%20OR%20\"blackouts\"%20OR%20\"blackout\"%20-\"video%20game\"%20OR%20\"power%20failure\"%20OR%20\"power%20failures\"%20OR%20\"no%20electricity\"%20OR%20\"power%20shortage\"%20OR%20\"electrical%20failure\"%20OR%20\"power%20loss\"%20OR%20\"power%20cuts\"%20OR%20\"power%20cut\"%20OR%20\"power%20went%20out\"%20OR%20\"power%20interuption\"%20OR%20\"brownout\"%20OR%20\"power%20goes%20out\"%20OR%20\"brownouts\"%20OR%20\"without%20power\"%20near%3A\"California\"%20within%3A15mi%20-filter%3Aretweets%20since%3A2019-11-07%20until%3A2019-11-08&l=en\n",
      "INFO: Using proxy 5.196.132.114:3128\n",
      "INFO: Twitter returned : 'has_more_items' \n",
      "INFO: Got 48 tweets for \"power%20outage\"%20OR%20\"power%20is%20out\"%20OR%20\"power's%20out\"%20OR%20\"blackouts\"%20OR%20\"blackout\"%20-\"video%20game\"%20OR%20\"power%20failure\"%20OR%20\"power%20failures\"%20OR%20\"no%20electricity\"%20OR%20\"power%20shortage\"%20OR%20\"electrical%20failure\"%20OR%20\"power%20loss\"%20OR%20\"power%20cuts\"%20OR%20\"power%20cut\"%20OR%20\"power%20went%20out\"%20OR%20\"power%20interuption\"%20OR%20\"brownout\"%20OR%20\"power%20goes%20out\"%20OR%20\"brownouts\"%20OR%20\"without%20power\"%20near%3A\"California\"%20within%3A15mi%20-filter%3Aretweets%20since%3A2019-11-07%20until%3A2019-11-08.\n",
      "INFO: Got 48 tweets (48 new).\n"
     ]
    }
   ],
   "source": [
    "# California\n",
    "df = scrape_twitter('California')"
   ]
  },
  {
   "cell_type": "code",
   "execution_count": 46,
   "metadata": {},
   "outputs": [
    {
     "data": {
      "text/plain": [
       "array([[1., 0.]])"
      ]
     },
     "execution_count": 46,
     "metadata": {},
     "output_type": "execute_result"
    }
   ],
   "source": [
    "model.predict_proba([clean_scrape(df)])"
   ]
  },
  {
   "cell_type": "code",
   "execution_count": 47,
   "metadata": {},
   "outputs": [
    {
     "data": {
      "text/plain": [
       "0.3888219018216934"
      ]
     },
     "execution_count": 47,
     "metadata": {},
     "output_type": "execute_result"
    }
   ],
   "source": [
    "preds_proba = []\n",
    "for tweet in df.drop_duplicates()['tweet']:\n",
    "    preds_proba.append(model.predict_proba([tweet])[0][1])\n",
    "    \n",
    "sum(preds_proba)/len(preds_proba)"
   ]
  },
  {
   "cell_type": "code",
   "execution_count": 69,
   "metadata": {
    "scrolled": true
   },
   "outputs": [
    {
     "name": "stderr",
     "output_type": "stream",
     "text": [
      "INFO: queries: ['\"power outage\" OR \"power is out\" OR \"power\\'s out\" OR \"blackouts\" OR \"blackout\" -\"video game\" OR \"power failure\" OR \"power failures\" OR \"no electricity\" OR \"power shortage\" OR \"electrical failure\" OR \"power loss\" OR \"power cuts\" OR \"power cut\" OR \"power went out\" OR \"power interuption\" OR \"brownout\" OR \"power goes out\" OR \"brownouts\" OR \"without power\" near:\"New York\" within:15mi -filter:retweets since:2019-06-29 until:2019-06-30', '\"power outage\" OR \"power is out\" OR \"power\\'s out\" OR \"blackouts\" OR \"blackout\" -\"video game\" OR \"power failure\" OR \"power failures\" OR \"no electricity\" OR \"power shortage\" OR \"electrical failure\" OR \"power loss\" OR \"power cuts\" OR \"power cut\" OR \"power went out\" OR \"power interuption\" OR \"brownout\" OR \"power goes out\" OR \"brownouts\" OR \"without power\" near:\"New York\" within:15mi -filter:retweets since:2019-06-30 until:2019-07-01']\n",
      "INFO: Querying \"power outage\" OR \"power is out\" OR \"power's out\" OR \"blackouts\" OR \"blackout\" -\"video game\" OR \"power failure\" OR \"power failures\" OR \"no electricity\" OR \"power shortage\" OR \"electrical failure\" OR \"power loss\" OR \"power cuts\" OR \"power cut\" OR \"power went out\" OR \"power interuption\" OR \"brownout\" OR \"power goes out\" OR \"brownouts\" OR \"without power\" near:\"New York\" within:15mi -filter:retweets since:2019-06-29 until:2019-06-30\n",
      "INFO: Scraping tweets from https://twitter.com/search?f=tweets&vertical=default&q=\"power%20outage\"%20OR%20\"power%20is%20out\"%20OR%20\"power's%20out\"%20OR%20\"blackouts\"%20OR%20\"blackout\"%20-\"video%20game\"%20OR%20\"power%20failure\"%20OR%20\"power%20failures\"%20OR%20\"no%20electricity\"%20OR%20\"power%20shortage\"%20OR%20\"electrical%20failure\"%20OR%20\"power%20loss\"%20OR%20\"power%20cuts\"%20OR%20\"power%20cut\"%20OR%20\"power%20went%20out\"%20OR%20\"power%20interuption\"%20OR%20\"brownout\"%20OR%20\"power%20goes%20out\"%20OR%20\"brownouts\"%20OR%20\"without%20power\"%20near%3A\"New%20York\"%20within%3A15mi%20-filter%3Aretweets%20since%3A2019-06-29%20until%3A2019-06-30&l=en\n",
      "INFO: Using proxy 41.217.217.1:55866\n",
      "INFO: Querying \"power outage\" OR \"power is out\" OR \"power's out\" OR \"blackouts\" OR \"blackout\" -\"video game\" OR \"power failure\" OR \"power failures\" OR \"no electricity\" OR \"power shortage\" OR \"electrical failure\" OR \"power loss\" OR \"power cuts\" OR \"power cut\" OR \"power went out\" OR \"power interuption\" OR \"brownout\" OR \"power goes out\" OR \"brownouts\" OR \"without power\" near:\"New York\" within:15mi -filter:retweets since:2019-06-30 until:2019-07-01\n",
      "INFO: Scraping tweets from https://twitter.com/search?f=tweets&vertical=default&q=\"power%20outage\"%20OR%20\"power%20is%20out\"%20OR%20\"power's%20out\"%20OR%20\"blackouts\"%20OR%20\"blackout\"%20-\"video%20game\"%20OR%20\"power%20failure\"%20OR%20\"power%20failures\"%20OR%20\"no%20electricity\"%20OR%20\"power%20shortage\"%20OR%20\"electrical%20failure\"%20OR%20\"power%20loss\"%20OR%20\"power%20cuts\"%20OR%20\"power%20cut\"%20OR%20\"power%20went%20out\"%20OR%20\"power%20interuption\"%20OR%20\"brownout\"%20OR%20\"power%20goes%20out\"%20OR%20\"brownouts\"%20OR%20\"without%20power\"%20near%3A\"New%20York\"%20within%3A15mi%20-filter%3Aretweets%20since%3A2019-06-30%20until%3A2019-07-01&l=en\n",
      "INFO: Using proxy 41.217.217.1:55866\n",
      "INFO: Scraping tweets from https://twitter.com/i/search/timeline?f=tweets&vertical=default&include_available_features=1&include_entities=1&reset_error_state=false&src=typd&max_position=TWEET-1145128422567534592-1145454469381013505&q=\"power%20outage\"%20OR%20\"power%20is%20out\"%20OR%20\"power's%20out\"%20OR%20\"blackouts\"%20OR%20\"blackout\"%20-\"video%20game\"%20OR%20\"power%20failure\"%20OR%20\"power%20failures\"%20OR%20\"no%20electricity\"%20OR%20\"power%20shortage\"%20OR%20\"electrical%20failure\"%20OR%20\"power%20loss\"%20OR%20\"power%20cuts\"%20OR%20\"power%20cut\"%20OR%20\"power%20went%20out\"%20OR%20\"power%20interuption\"%20OR%20\"brownout\"%20OR%20\"power%20goes%20out\"%20OR%20\"brownouts\"%20OR%20\"without%20power\"%20near%3A\"New%20York\"%20within%3A15mi%20-filter%3Aretweets%20since%3A2019-06-30%20until%3A2019-07-01&l=en\n",
      "INFO: Using proxy 103.43.203.225:53281\n",
      "INFO: Scraping tweets from https://twitter.com/i/search/timeline?f=tweets&vertical=default&include_available_features=1&include_entities=1&reset_error_state=false&src=typd&max_position=TWEET-1144782095098753026-1145016258045198336&q=\"power%20outage\"%20OR%20\"power%20is%20out\"%20OR%20\"power's%20out\"%20OR%20\"blackouts\"%20OR%20\"blackout\"%20-\"video%20game\"%20OR%20\"power%20failure\"%20OR%20\"power%20failures\"%20OR%20\"no%20electricity\"%20OR%20\"power%20shortage\"%20OR%20\"electrical%20failure\"%20OR%20\"power%20loss\"%20OR%20\"power%20cuts\"%20OR%20\"power%20cut\"%20OR%20\"power%20went%20out\"%20OR%20\"power%20interuption\"%20OR%20\"brownout\"%20OR%20\"power%20goes%20out\"%20OR%20\"brownouts\"%20OR%20\"without%20power\"%20near%3A\"New%20York\"%20within%3A15mi%20-filter%3Aretweets%20since%3A2019-06-29%20until%3A2019-06-30&l=en\n",
      "INFO: Using proxy 103.43.203.225:53281\n",
      "INFO: Scraping tweets from https://twitter.com/i/search/timeline?f=tweets&vertical=default&include_available_features=1&include_entities=1&reset_error_state=false&src=typd&max_position=thGAVUV0VFVBaEwLW5gdCK4x8WgICmrYuO9eMfEjUAFQAlAFUAFQAA&q=\"power%20outage\"%20OR%20\"power%20is%20out\"%20OR%20\"power's%20out\"%20OR%20\"blackouts\"%20OR%20\"blackout\"%20-\"video%20game\"%20OR%20\"power%20failure\"%20OR%20\"power%20failures\"%20OR%20\"no%20electricity\"%20OR%20\"power%20shortage\"%20OR%20\"electrical%20failure\"%20OR%20\"power%20loss\"%20OR%20\"power%20cuts\"%20OR%20\"power%20cut\"%20OR%20\"power%20went%20out\"%20OR%20\"power%20interuption\"%20OR%20\"brownout\"%20OR%20\"power%20goes%20out\"%20OR%20\"brownouts\"%20OR%20\"without%20power\"%20near%3A\"New%20York\"%20within%3A15mi%20-filter%3Aretweets%20since%3A2019-06-29%20until%3A2019-06-30&l=en\n",
      "INFO: Using proxy 200.32.51.179:8080\n",
      "INFO: Scraping tweets from https://twitter.com/i/search/timeline?f=tweets&vertical=default&include_available_features=1&include_entities=1&reset_error_state=false&src=typd&max_position=thGAVUV0VFVBaAgLuV9o6o5B8WgoC2nayxvOUfEjUAFQAlAFUAFQAA&q=\"power%20outage\"%20OR%20\"power%20is%20out\"%20OR%20\"power's%20out\"%20OR%20\"blackouts\"%20OR%20\"blackout\"%20-\"video%20game\"%20OR%20\"power%20failure\"%20OR%20\"power%20failures\"%20OR%20\"no%20electricity\"%20OR%20\"power%20shortage\"%20OR%20\"electrical%20failure\"%20OR%20\"power%20loss\"%20OR%20\"power%20cuts\"%20OR%20\"power%20cut\"%20OR%20\"power%20went%20out\"%20OR%20\"power%20interuption\"%20OR%20\"brownout\"%20OR%20\"power%20goes%20out\"%20OR%20\"brownouts\"%20OR%20\"without%20power\"%20near%3A\"New%20York\"%20within%3A15mi%20-filter%3Aretweets%20since%3A2019-06-30%20until%3A2019-07-01&l=en\n",
      "INFO: Using proxy 200.32.51.179:8080\n",
      "INFO: Twitter returned : 'has_more_items' \n",
      "INFO: Got 12 tweets for \"power%20outage\"%20OR%20\"power%20is%20out\"%20OR%20\"power's%20out\"%20OR%20\"blackouts\"%20OR%20\"blackout\"%20-\"video%20game\"%20OR%20\"power%20failure\"%20OR%20\"power%20failures\"%20OR%20\"no%20electricity\"%20OR%20\"power%20shortage\"%20OR%20\"electrical%20failure\"%20OR%20\"power%20loss\"%20OR%20\"power%20cuts\"%20OR%20\"power%20cut\"%20OR%20\"power%20went%20out\"%20OR%20\"power%20interuption\"%20OR%20\"brownout\"%20OR%20\"power%20goes%20out\"%20OR%20\"brownouts\"%20OR%20\"without%20power\"%20near%3A\"New%20York\"%20within%3A15mi%20-filter%3Aretweets%20since%3A2019-06-30%20until%3A2019-07-01.\n",
      "INFO: Got 12 tweets (12 new).\n",
      "INFO: Twitter returned : 'has_more_items' \n",
      "INFO: Got 6 tweets for \"power%20outage\"%20OR%20\"power%20is%20out\"%20OR%20\"power's%20out\"%20OR%20\"blackouts\"%20OR%20\"blackout\"%20-\"video%20game\"%20OR%20\"power%20failure\"%20OR%20\"power%20failures\"%20OR%20\"no%20electricity\"%20OR%20\"power%20shortage\"%20OR%20\"electrical%20failure\"%20OR%20\"power%20loss\"%20OR%20\"power%20cuts\"%20OR%20\"power%20cut\"%20OR%20\"power%20went%20out\"%20OR%20\"power%20interuption\"%20OR%20\"brownout\"%20OR%20\"power%20goes%20out\"%20OR%20\"brownouts\"%20OR%20\"without%20power\"%20near%3A\"New%20York\"%20within%3A15mi%20-filter%3Aretweets%20since%3A2019-06-29%20until%3A2019-06-30.\n",
      "INFO: Got 18 tweets (6 new).\n"
     ]
    }
   ],
   "source": [
    "# Texas\n",
    "df = scrape_twitter('New York')"
   ]
  },
  {
   "cell_type": "code",
   "execution_count": 72,
   "metadata": {},
   "outputs": [
    {
     "data": {
      "text/plain": [
       "array([[0.5, 0.5]])"
      ]
     },
     "execution_count": 72,
     "metadata": {},
     "output_type": "execute_result"
    }
   ],
   "source": [
    "model.predict_proba([clean_scrape(df)])"
   ]
  },
  {
   "cell_type": "code",
   "execution_count": 73,
   "metadata": {},
   "outputs": [
    {
     "data": {
      "text/plain": [
       "0.5397915698943349"
      ]
     },
     "execution_count": 73,
     "metadata": {},
     "output_type": "execute_result"
    }
   ],
   "source": [
    "preds_proba = []\n",
    "for tweet in df.drop_duplicates()['tweet']:\n",
    "    preds_proba.append(model.predict_proba([tweet])[0][1])\n",
    "    \n",
    "sum(preds_proba)/len(preds_proba)"
   ]
  },
  {
   "cell_type": "code",
   "execution_count": 75,
   "metadata": {},
   "outputs": [
    {
     "data": {
      "text/html": [
       "<div>\n",
       "<style scoped>\n",
       "    .dataframe tbody tr th:only-of-type {\n",
       "        vertical-align: middle;\n",
       "    }\n",
       "\n",
       "    .dataframe tbody tr th {\n",
       "        vertical-align: top;\n",
       "    }\n",
       "\n",
       "    .dataframe thead th {\n",
       "        text-align: right;\n",
       "    }\n",
       "</style>\n",
       "<table border=\"1\" class=\"dataframe\">\n",
       "  <thead>\n",
       "    <tr style=\"text-align: right;\">\n",
       "      <th></th>\n",
       "      <th>tweet</th>\n",
       "      <th>location</th>\n",
       "      <th>time_stamp</th>\n",
       "    </tr>\n",
       "  </thead>\n",
       "  <tbody>\n",
       "    <tr>\n",
       "      <td>0</td>\n",
       "      <td>iight so i got the bunny skin on cod and it s ...</td>\n",
       "      <td>New York</td>\n",
       "      <td>2019-06-30 22:10:01</td>\n",
       "    </tr>\n",
       "    <tr>\n",
       "      <td>1</td>\n",
       "      <td>listening to i couldn t be more in love by the...</td>\n",
       "      <td>New York</td>\n",
       "      <td>2019-06-30 21:08:01</td>\n",
       "    </tr>\n",
       "    <tr>\n",
       "      <td>2</td>\n",
       "      <td>good morning world time to blackout at nyc pri...</td>\n",
       "      <td>New York</td>\n",
       "      <td>2019-06-30 15:45:25</td>\n",
       "    </tr>\n",
       "    <tr>\n",
       "      <td>3</td>\n",
       "      <td>we need a blackout party this summer</td>\n",
       "      <td>New York</td>\n",
       "      <td>2019-06-30 02:49:43</td>\n",
       "    </tr>\n",
       "    <tr>\n",
       "      <td>4</td>\n",
       "      <td>we re one blackout away from full anarchy at c...</td>\n",
       "      <td>New York</td>\n",
       "      <td>2019-06-30 00:46:19</td>\n",
       "    </tr>\n",
       "    <tr>\n",
       "      <td>5</td>\n",
       "      <td>just here sitting in the dark with grandma dri...</td>\n",
       "      <td>New York</td>\n",
       "      <td>2019-06-30 00:34:26</td>\n",
       "    </tr>\n",
       "    <tr>\n",
       "      <td>12</td>\n",
       "      <td>had an incredible sleep at the ny marriott dow...</td>\n",
       "      <td>New York</td>\n",
       "      <td>2019-06-29 17:08:43</td>\n",
       "    </tr>\n",
       "    <tr>\n",
       "      <td>13</td>\n",
       "      <td>wow the blackout blinds here are the best ever...</td>\n",
       "      <td>New York</td>\n",
       "      <td>2019-06-29 17:05:28</td>\n",
       "    </tr>\n",
       "    <tr>\n",
       "      <td>14</td>\n",
       "      <td>the dessert brooklyn blackout by twolittleredh...</td>\n",
       "      <td>New York</td>\n",
       "      <td>2019-06-29 01:38:15</td>\n",
       "    </tr>\n",
       "  </tbody>\n",
       "</table>\n",
       "</div>"
      ],
      "text/plain": [
       "                                                tweet  location  \\\n",
       "0   iight so i got the bunny skin on cod and it s ...  New York   \n",
       "1   listening to i couldn t be more in love by the...  New York   \n",
       "2   good morning world time to blackout at nyc pri...  New York   \n",
       "3                we need a blackout party this summer  New York   \n",
       "4   we re one blackout away from full anarchy at c...  New York   \n",
       "5   just here sitting in the dark with grandma dri...  New York   \n",
       "12  had an incredible sleep at the ny marriott dow...  New York   \n",
       "13  wow the blackout blinds here are the best ever...  New York   \n",
       "14  the dessert brooklyn blackout by twolittleredh...  New York   \n",
       "\n",
       "            time_stamp  \n",
       "0  2019-06-30 22:10:01  \n",
       "1  2019-06-30 21:08:01  \n",
       "2  2019-06-30 15:45:25  \n",
       "3  2019-06-30 02:49:43  \n",
       "4  2019-06-30 00:46:19  \n",
       "5  2019-06-30 00:34:26  \n",
       "12 2019-06-29 17:08:43  \n",
       "13 2019-06-29 17:05:28  \n",
       "14 2019-06-29 01:38:15  "
      ]
     },
     "execution_count": 75,
     "metadata": {},
     "output_type": "execute_result"
    }
   ],
   "source": [
    "df.drop_duplicates()"
   ]
  },
  {
   "cell_type": "code",
   "execution_count": null,
   "metadata": {},
   "outputs": [],
   "source": []
  }
 ],
 "metadata": {
  "kernelspec": {
   "display_name": "Python 3",
   "language": "python",
   "name": "python3"
  },
  "language_info": {
   "codemirror_mode": {
    "name": "ipython",
    "version": 3
   },
   "file_extension": ".py",
   "mimetype": "text/x-python",
   "name": "python",
   "nbconvert_exporter": "python",
   "pygments_lexer": "ipython3",
   "version": "3.7.3"
  }
 },
 "nbformat": 4,
 "nbformat_minor": 2
}
