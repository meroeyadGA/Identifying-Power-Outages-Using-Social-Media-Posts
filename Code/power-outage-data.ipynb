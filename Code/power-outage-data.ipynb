{
 "cells": [
  {
   "cell_type": "markdown",
   "metadata": {},
   "source": [
    "# Power Outage Data\n",
    "\n",
    "- Collected from: https://www.oe.netl.doe.gov/OE417_annual_summary.aspx\n",
    "- Report information: https://www.oe.netl.doe.gov/docs/OE417_Form_Instructions_05312021.pdf\n",
    "\n",
    "\n"
   ]
  },
  {
   "cell_type": "code",
   "execution_count": 1,
   "metadata": {},
   "outputs": [],
   "source": [
    "import pandas as pd\n",
    "import numpy as np"
   ]
  },
  {
   "cell_type": "code",
   "execution_count": 2,
   "metadata": {},
   "outputs": [
    {
     "name": "stdout",
     "output_type": "stream",
     "text": [
      "WARNING *** file size (73412) not 512 + multiple of sector size (512)\n",
      "WARNING *** file size (73412) not 512 + multiple of sector size (512)\n",
      "WARNING *** file size (69316) not 512 + multiple of sector size (512)\n",
      "WARNING *** file size (86212) not 512 + multiple of sector size (512)\n",
      "WARNING *** file size (79044) not 512 + multiple of sector size (512)\n"
     ]
    }
   ],
   "source": [
    "# Import power outage data & concat from year 2014 - 2019\n",
    "data_list = []\n",
    "for i in range(4,10,1):\n",
    "    data = pd.read_excel(f\"../Data/201{i}_Annual_Summary.xls\", header = 1)\n",
    "    data_list.append(data)\n",
    "df = pd.concat(data_list, axis=0, ignore_index=True)\n",
    "\n",
    "#https://stackoverflow.com/questions/20906474/import-multiple-csv-files-into-pandas-and-concatenate-into-one-dataframe"
   ]
  },
  {
   "cell_type": "code",
   "execution_count": 3,
   "metadata": {},
   "outputs": [
    {
     "data": {
      "text/plain": [
       "Month                            0\n",
       "Date Event Began                 0\n",
       "Time Event Began                 0\n",
       "Date of Restoration              0\n",
       "Time of Restoration              0\n",
       "Area Affected                    0\n",
       "NERC Region                      9\n",
       "Alert Criteria                   0\n",
       "Event Type                       0\n",
       "Demand Loss (MW)                18\n",
       "Number of Customers Affected    18\n",
       "dtype: int64"
      ]
     },
     "execution_count": 3,
     "metadata": {},
     "output_type": "execute_result"
    }
   ],
   "source": [
    "df.isnull().sum()"
   ]
  },
  {
   "cell_type": "code",
   "execution_count": 4,
   "metadata": {},
   "outputs": [],
   "source": [
    "# Fill NA with \"Unknown\"\n",
    "df = df.fillna(\"Unknown\")"
   ]
  },
  {
   "cell_type": "code",
   "execution_count": 5,
   "metadata": {},
   "outputs": [
    {
     "data": {
      "text/plain": [
       "(1060, 11)"
      ]
     },
     "execution_count": 5,
     "metadata": {},
     "output_type": "execute_result"
    }
   ],
   "source": [
    "df.shape"
   ]
  },
  {
   "cell_type": "markdown",
   "metadata": {},
   "source": [
    "**Capture state name in the `Area Affected` column**\n"
   ]
  },
  {
   "cell_type": "code",
   "execution_count": 6,
   "metadata": {},
   "outputs": [],
   "source": [
    "def get_state(string):\n",
    "    states = [\"Alabama\",\"Alaska\",\"Arizona\",\"Arkansas\",\"California\",\"Colorado\",\n",
    "      \"Connecticut\",\"Delaware\",\"Florida\",\"Georgia\",\"Hawaii\",\"Idaho\",\"Illinois\",\n",
    "      \"Indiana\",\"Iowa\",\"Kansas\",\"Kentucky\",\"Louisiana\",\"Maine\",\"Maryland\",\n",
    "      \"Massachusetts\",\"Michigan\",\"Minnesota\",\"Mississippi\",\"Missouri\",\"Montana\",\n",
    "      \"Nebraska\",\"Nevada\",\"New Hampshire\",\"New Jersey\",\"New Mexico\",\"New York\",\n",
    "      \"North Carolina\",\"North Dakota\",\"Ohio\",\"Oklahoma\",\"Oregon\",\"Pennsylvania\",\n",
    "      \"Rhode Island\",\"South Carolina\",\"South Dakota\",\"Tennessee\",\"Texas\",\"Utah\",\n",
    "      \"Vermont\",\"Washington\",\"West Virginia\",\"Wisconsin\",\"Wyoming\", \"District of Columbia\", \"Unknown\"]\n",
    "    state_list = []\n",
    "    for i in states:\n",
    "        if i.title() in string.title():\n",
    "            state_list.append(i)\n",
    "    if (\"Virginia\" in string.title()) & ~(\"West Virginia\" in string.title()):\n",
    "        state_list.append(\"Virginia\")\n",
    "    if string.title().count(\"Virginia\") >= 2:\n",
    "        state_list.append(\"Virginia\")\n",
    "    return state_list"
   ]
  },
  {
   "cell_type": "code",
   "execution_count": 7,
   "metadata": {},
   "outputs": [],
   "source": [
    "df['state'] = df['Area Affected'].map(get_state)"
   ]
  },
  {
   "cell_type": "markdown",
   "metadata": {},
   "source": [
    "**Separate mutiple states to one state per row**"
   ]
  },
  {
   "cell_type": "code",
   "execution_count": 9,
   "metadata": {},
   "outputs": [
    {
     "name": "stderr",
     "output_type": "stream",
     "text": [
      "/Users/jackwang/anaconda3/lib/python3.7/site-packages/ipykernel_launcher.py:9: SettingWithCopyWarning: \n",
      "A value is trying to be set on a copy of a slice from a DataFrame.\n",
      "Try using .loc[row_indexer,col_indexer] = value instead\n",
      "\n",
      "See the caveats in the documentation: http://pandas.pydata.org/pandas-docs/stable/user_guide/indexing.html#returning-a-view-versus-a-copy\n",
      "  if __name__ == '__main__':\n"
     ]
    },
    {
     "data": {
      "text/plain": [
       "(1325, 12)"
      ]
     },
     "execution_count": 9,
     "metadata": {},
     "output_type": "execute_result"
    }
   ],
   "source": [
    "df_test = df.iloc[0:1].copy()\n",
    "for i in range(1, df.shape[0], 1):\n",
    "    if len(df['state'][i]) == 1:\n",
    "        df_test = df_test.append(df.iloc[i:i+1])\n",
    "        df_test['state'][i] = df['state'][i][0]\n",
    "    else:\n",
    "        for j in range(0, len(df['state'][i]), 1):\n",
    "            df_test = df_test.append(df.iloc[i:i+1])\n",
    "            df_test.iloc[-1:]['state'] = df['state'][i][j]\n",
    "df_test['state'][0] = df['state'][0][0]\n",
    "\n",
    "df_test.shape"
   ]
  },
  {
   "cell_type": "code",
   "execution_count": 10,
   "metadata": {},
   "outputs": [],
   "source": [
    "# Reset index\n",
    "df_test.reset_index(drop = True, inplace = True)"
   ]
  },
  {
   "cell_type": "markdown",
   "metadata": {},
   "source": [
    "**Add `time_location` column to the dataframe so we can merge with twitter data**"
   ]
  },
  {
   "cell_type": "code",
   "execution_count": 11,
   "metadata": {},
   "outputs": [],
   "source": [
    "# Format date column\n",
    "df_test['Date Event Began'] = pd.to_datetime(df_test['Date Event Began']).dt.date.astype(\"object\")\n",
    "\n",
    "# Format hour column\n",
    "df_test['Hour Event Began'] = pd.to_datetime(df_test['Time Event Began'], format ='%H:%M:%S').dt.hour.astype(\"object\")\n",
    "\n",
    "# Create time_location column\n",
    "df_test['time_location'] = [f\"{df_test['Date Event Began'][i]} {df_test['Hour Event Began'][i]}:00:00 | {df_test['state'][i]}\"\n",
    " for i in range(0,df_test.shape[0],1)]"
   ]
  },
  {
   "cell_type": "code",
   "execution_count": 16,
   "metadata": {},
   "outputs": [
    {
     "data": {
      "text/html": [
       "<div>\n",
       "<style scoped>\n",
       "    .dataframe tbody tr th:only-of-type {\n",
       "        vertical-align: middle;\n",
       "    }\n",
       "\n",
       "    .dataframe tbody tr th {\n",
       "        vertical-align: top;\n",
       "    }\n",
       "\n",
       "    .dataframe thead th {\n",
       "        text-align: right;\n",
       "    }\n",
       "</style>\n",
       "<table border=\"1\" class=\"dataframe\">\n",
       "  <thead>\n",
       "    <tr style=\"text-align: right;\">\n",
       "      <th></th>\n",
       "      <th>Month</th>\n",
       "      <th>Date Event Began</th>\n",
       "      <th>Time Event Began</th>\n",
       "      <th>Date of Restoration</th>\n",
       "      <th>Time of Restoration</th>\n",
       "      <th>Area Affected</th>\n",
       "      <th>NERC Region</th>\n",
       "      <th>Alert Criteria</th>\n",
       "      <th>Event Type</th>\n",
       "      <th>Demand Loss (MW)</th>\n",
       "      <th>Number of Customers Affected</th>\n",
       "      <th>state</th>\n",
       "      <th>Hour Event Began</th>\n",
       "      <th>time_location</th>\n",
       "    </tr>\n",
       "  </thead>\n",
       "  <tbody>\n",
       "    <tr>\n",
       "      <td>0</td>\n",
       "      <td>January</td>\n",
       "      <td>2014-01-06</td>\n",
       "      <td>19:50:00</td>\n",
       "      <td>01/06/2014</td>\n",
       "      <td>20:44:00</td>\n",
       "      <td>District of Columbia</td>\n",
       "      <td>RFC</td>\n",
       "      <td>Missing</td>\n",
       "      <td>Voltage Reduction due to Severe Weather - Cold</td>\n",
       "      <td>Unknown</td>\n",
       "      <td>Unknown</td>\n",
       "      <td>District of Columbia</td>\n",
       "      <td>19</td>\n",
       "      <td>2014-01-06 19:00:00 | District of Columbia</td>\n",
       "    </tr>\n",
       "    <tr>\n",
       "      <td>1</td>\n",
       "      <td>January</td>\n",
       "      <td>2014-01-06</td>\n",
       "      <td>19:50:00</td>\n",
       "      <td>01/06/2014</td>\n",
       "      <td>20:44:00</td>\n",
       "      <td>Unknown</td>\n",
       "      <td>RFC</td>\n",
       "      <td>Missing</td>\n",
       "      <td>Voltage Reduction due to Severe Weather - Cold</td>\n",
       "      <td>Unknown</td>\n",
       "      <td>Unknown</td>\n",
       "      <td>Unknown</td>\n",
       "      <td>19</td>\n",
       "      <td>2014-01-06 19:00:00 | Unknown</td>\n",
       "    </tr>\n",
       "    <tr>\n",
       "      <td>2</td>\n",
       "      <td>January</td>\n",
       "      <td>2014-01-06</td>\n",
       "      <td>19:52:00</td>\n",
       "      <td>01/06/2014</td>\n",
       "      <td>20:45:00</td>\n",
       "      <td>Delaware</td>\n",
       "      <td>RFC</td>\n",
       "      <td>Missing</td>\n",
       "      <td>Voltage Reduction due to Severe Weather - Cold</td>\n",
       "      <td>Unknown</td>\n",
       "      <td>Unknown</td>\n",
       "      <td>Delaware</td>\n",
       "      <td>19</td>\n",
       "      <td>2014-01-06 19:00:00 | Delaware</td>\n",
       "    </tr>\n",
       "    <tr>\n",
       "      <td>3</td>\n",
       "      <td>January</td>\n",
       "      <td>2014-01-06</td>\n",
       "      <td>20:45:00</td>\n",
       "      <td>01/07/2014</td>\n",
       "      <td>21:00:00</td>\n",
       "      <td>Unknown</td>\n",
       "      <td>RFC</td>\n",
       "      <td>Missing</td>\n",
       "      <td>Public Appeal due to Severe Weather - Cold</td>\n",
       "      <td>Unknown</td>\n",
       "      <td>Unknown</td>\n",
       "      <td>Unknown</td>\n",
       "      <td>20</td>\n",
       "      <td>2014-01-06 20:00:00 | Unknown</td>\n",
       "    </tr>\n",
       "    <tr>\n",
       "      <td>4</td>\n",
       "      <td>January</td>\n",
       "      <td>2014-01-06</td>\n",
       "      <td>19:50:00</td>\n",
       "      <td>01/06/2014</td>\n",
       "      <td>20:49:00</td>\n",
       "      <td>Pennsylvania</td>\n",
       "      <td>RFC</td>\n",
       "      <td>Missing</td>\n",
       "      <td>Voltage Reduction due to Severe Weather - Cold</td>\n",
       "      <td>200</td>\n",
       "      <td>62000</td>\n",
       "      <td>Pennsylvania</td>\n",
       "      <td>19</td>\n",
       "      <td>2014-01-06 19:00:00 | Pennsylvania</td>\n",
       "    </tr>\n",
       "  </tbody>\n",
       "</table>\n",
       "</div>"
      ],
      "text/plain": [
       "     Month Date Event Began Time Event Began Date of Restoration  \\\n",
       "0  January       2014-01-06         19:50:00          01/06/2014   \n",
       "1  January       2014-01-06         19:50:00          01/06/2014   \n",
       "2  January       2014-01-06         19:52:00          01/06/2014   \n",
       "3  January       2014-01-06         20:45:00          01/07/2014   \n",
       "4  January       2014-01-06         19:50:00          01/06/2014   \n",
       "\n",
       "  Time of Restoration         Area Affected NERC Region Alert Criteria  \\\n",
       "0            20:44:00  District of Columbia         RFC        Missing   \n",
       "1            20:44:00               Unknown         RFC        Missing   \n",
       "2            20:45:00              Delaware         RFC        Missing   \n",
       "3            21:00:00               Unknown         RFC        Missing   \n",
       "4            20:49:00          Pennsylvania         RFC        Missing   \n",
       "\n",
       "                                       Event Type Demand Loss (MW)  \\\n",
       "0  Voltage Reduction due to Severe Weather - Cold          Unknown   \n",
       "1  Voltage Reduction due to Severe Weather - Cold          Unknown   \n",
       "2  Voltage Reduction due to Severe Weather - Cold          Unknown   \n",
       "3      Public Appeal due to Severe Weather - Cold          Unknown   \n",
       "4  Voltage Reduction due to Severe Weather - Cold              200   \n",
       "\n",
       "  Number of Customers Affected                 state Hour Event Began  \\\n",
       "0                      Unknown  District of Columbia               19   \n",
       "1                      Unknown               Unknown               19   \n",
       "2                      Unknown              Delaware               19   \n",
       "3                      Unknown               Unknown               20   \n",
       "4                        62000          Pennsylvania               19   \n",
       "\n",
       "                                time_location  \n",
       "0  2014-01-06 19:00:00 | District of Columbia  \n",
       "1               2014-01-06 19:00:00 | Unknown  \n",
       "2              2014-01-06 19:00:00 | Delaware  \n",
       "3               2014-01-06 20:00:00 | Unknown  \n",
       "4          2014-01-06 19:00:00 | Pennsylvania  "
      ]
     },
     "execution_count": 16,
     "metadata": {},
     "output_type": "execute_result"
    }
   ],
   "source": [
    "df_test.head()"
   ]
  },
  {
   "cell_type": "code",
   "execution_count": 15,
   "metadata": {},
   "outputs": [],
   "source": [
    "# Export to CSV\n",
    "df_test.to_csv(\"../Data/power_outage.csv\")"
   ]
  }
 ],
 "metadata": {
  "kernelspec": {
   "display_name": "Python 3",
   "language": "python",
   "name": "python3"
  },
  "language_info": {
   "codemirror_mode": {
    "name": "ipython",
    "version": 3
   },
   "file_extension": ".py",
   "mimetype": "text/x-python",
   "name": "python",
   "nbconvert_exporter": "python",
   "pygments_lexer": "ipython3",
   "version": "3.7.3"
  }
 },
 "nbformat": 4,
 "nbformat_minor": 2
}
