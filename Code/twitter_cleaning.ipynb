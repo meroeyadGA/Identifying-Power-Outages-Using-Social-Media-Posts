{
 "cells": [
  {
   "cell_type": "markdown",
   "metadata": {},
   "source": [
    "# Twitter Cleaning"
   ]
  },
  {
   "cell_type": "code",
   "execution_count": 1,
   "metadata": {},
   "outputs": [],
   "source": [
    "import pandas as pd\n",
    "import re\n",
    "\n",
    "from string import punctuation\n",
    "from nltk import word_tokenize\n",
    "from nltk.tokenize import RegexpTokenizer\n",
    "from nltk.stem import WordNetLemmatizer, PorterStemmer\n",
    "from nltk.corpus import stopwords"
   ]
  },
  {
   "cell_type": "code",
   "execution_count": 2,
   "metadata": {
    "scrolled": true
   },
   "outputs": [
    {
     "data": {
      "text/html": [
       "<div>\n",
       "<style scoped>\n",
       "    .dataframe tbody tr th:only-of-type {\n",
       "        vertical-align: middle;\n",
       "    }\n",
       "\n",
       "    .dataframe tbody tr th {\n",
       "        vertical-align: top;\n",
       "    }\n",
       "\n",
       "    .dataframe thead th {\n",
       "        text-align: right;\n",
       "    }\n",
       "</style>\n",
       "<table border=\"1\" class=\"dataframe\">\n",
       "  <thead>\n",
       "    <tr style=\"text-align: right;\">\n",
       "      <th></th>\n",
       "      <th>tweet</th>\n",
       "      <th>location</th>\n",
       "      <th>user_name</th>\n",
       "      <th>time_stamp</th>\n",
       "      <th>num_retweets</th>\n",
       "      <th>num_likes</th>\n",
       "      <th>tweet_word_count</th>\n",
       "    </tr>\n",
       "  </thead>\n",
       "  <tbody>\n",
       "    <tr>\n",
       "      <td>0</td>\n",
       "      <td>And we could spend the rest of the money on ra...</td>\n",
       "      <td>Alabama</td>\n",
       "      <td>samd9273</td>\n",
       "      <td>2019-10-31 22:11:35</td>\n",
       "      <td>0</td>\n",
       "      <td>0</td>\n",
       "      <td>23</td>\n",
       "    </tr>\n",
       "    <tr>\n",
       "      <td>1</td>\n",
       "      <td>We sorry to hear the power is out. Please DM t...</td>\n",
       "      <td>Alabama</td>\n",
       "      <td>alabamapower</td>\n",
       "      <td>2019-10-31 21:53:10</td>\n",
       "      <td>0</td>\n",
       "      <td>0</td>\n",
       "      <td>23</td>\n",
       "    </tr>\n",
       "    <tr>\n",
       "      <td>2</td>\n",
       "      <td>@DrX1304 think of how many ducks we could buy ...</td>\n",
       "      <td>Alabama</td>\n",
       "      <td>samd9273</td>\n",
       "      <td>2019-10-31 21:44:15</td>\n",
       "      <td>0</td>\n",
       "      <td>1</td>\n",
       "      <td>13</td>\n",
       "    </tr>\n",
       "    <tr>\n",
       "      <td>3</td>\n",
       "      <td>It’s spooky season</td>\n",
       "      <td>Alabama</td>\n",
       "      <td>OMGItsBlackout</td>\n",
       "      <td>2019-10-31 18:17:20</td>\n",
       "      <td>0</td>\n",
       "      <td>0</td>\n",
       "      <td>3</td>\n",
       "    </tr>\n",
       "    <tr>\n",
       "      <td>4</td>\n",
       "      <td>Newsom Raked In Big Money From Public Utility ...</td>\n",
       "      <td>Alabama</td>\n",
       "      <td>deenie7940</td>\n",
       "      <td>2019-10-31 13:58:11</td>\n",
       "      <td>0</td>\n",
       "      <td>0</td>\n",
       "      <td>19</td>\n",
       "    </tr>\n",
       "  </tbody>\n",
       "</table>\n",
       "</div>"
      ],
      "text/plain": [
       "                                               tweet location       user_name  \\\n",
       "0  And we could spend the rest of the money on ra...  Alabama        samd9273   \n",
       "1  We sorry to hear the power is out. Please DM t...  Alabama    alabamapower   \n",
       "2  @DrX1304 think of how many ducks we could buy ...  Alabama        samd9273   \n",
       "3                                 It’s spooky season  Alabama  OMGItsBlackout   \n",
       "4  Newsom Raked In Big Money From Public Utility ...  Alabama      deenie7940   \n",
       "\n",
       "            time_stamp  num_retweets  num_likes  tweet_word_count  \n",
       "0  2019-10-31 22:11:35             0          0                23  \n",
       "1  2019-10-31 21:53:10             0          0                23  \n",
       "2  2019-10-31 21:44:15             0          1                13  \n",
       "3  2019-10-31 18:17:20             0          0                 3  \n",
       "4  2019-10-31 13:58:11             0          0                19  "
      ]
     },
     "execution_count": 2,
     "metadata": {},
     "output_type": "execute_result"
    }
   ],
   "source": [
    "df = pd.read_csv('../Data/twitter_states_2014_19.csv')\n",
    "\n",
    "df.head()"
   ]
  },
  {
   "cell_type": "code",
   "execution_count": 3,
   "metadata": {},
   "outputs": [
    {
     "data": {
      "text/plain": [
       "'Newsom Raked In Big Money From Public Utility He Is Now Chiding For Fires And Rolling Blackouts https://townhall.com/tipsheet/bethbaumann/2019/10/30/newsom-raked-in-big-money-from-public-utility-he-is-now-chiding-for-fires-and-rol-n2555643\\xa0…'"
      ]
     },
     "execution_count": 3,
     "metadata": {},
     "output_type": "execute_result"
    }
   ],
   "source": [
    "df['tweet'][4]"
   ]
  },
  {
   "cell_type": "code",
   "execution_count": 4,
   "metadata": {},
   "outputs": [
    {
     "data": {
      "text/plain": [
       "(19948, 7)"
      ]
     },
     "execution_count": 4,
     "metadata": {},
     "output_type": "execute_result"
    }
   ],
   "source": [
    "df.shape"
   ]
  },
  {
   "cell_type": "code",
   "execution_count": 5,
   "metadata": {},
   "outputs": [
    {
     "data": {
      "text/plain": [
       "(18990, 7)"
      ]
     },
     "execution_count": 5,
     "metadata": {},
     "output_type": "execute_result"
    }
   ],
   "source": [
    "# remove duplicate tweets\n",
    "df = df.drop_duplicates(subset=['tweet', 'location', 'user_name', 'time_stamp'], keep='last').reset_index(drop=True)\n",
    "df.shape"
   ]
  },
  {
   "cell_type": "markdown",
   "metadata": {},
   "source": [
    "___\n",
    "## remove links"
   ]
  },
  {
   "cell_type": "code",
   "execution_count": 6,
   "metadata": {
    "scrolled": true
   },
   "outputs": [],
   "source": [
    "# remove any twitter pic urls\n",
    "df['tweet'] = [re.sub(r'pic.twitter.com\\S+', '', post).strip() for post in df['tweet']]"
   ]
  },
  {
   "cell_type": "code",
   "execution_count": 7,
   "metadata": {},
   "outputs": [],
   "source": [
    "# remove any http urls\n",
    "df['tweet'] = [re.sub(r'http\\S+', '', post).strip() for post in df['tweet']]"
   ]
  },
  {
   "cell_type": "code",
   "execution_count": 8,
   "metadata": {},
   "outputs": [
    {
     "data": {
      "text/plain": [
       "['And we could spend the rest of the money on rabbits that we can tend to living off the fatta of the land',\n",
       " 'We sorry to hear the power is out. Please DM the full service address, so we can get the issue reported. -Dorie j',\n",
       " '@DrX1304 think of how many ducks we could buy with this money\\xa0…',\n",
       " 'It’s spooky season',\n",
       " 'Newsom Raked In Big Money From Public Utility He Is Now Chiding For Fires And Rolling Blackouts \\xa0…']"
      ]
     },
     "execution_count": 8,
     "metadata": {},
     "output_type": "execute_result"
    }
   ],
   "source": [
    "[tweet for tweet in df['tweet']][:5]"
   ]
  },
  {
   "cell_type": "markdown",
   "metadata": {},
   "source": [
    "___\n",
    "## Tokenizing"
   ]
  },
  {
   "cell_type": "code",
   "execution_count": 9,
   "metadata": {},
   "outputs": [],
   "source": [
    "# instatiate the tokenizer\n",
    "tknr = RegexpTokenizer(r'[a-zA-Z&0-9]+')\n",
    "\n",
    "# start with empty lists\n",
    "tokens = []\n",
    "\n",
    "# fill the list with tokenized versions of each post title\n",
    "for post in df['tweet']:\n",
    "    tokens.append(\" \".join(tknr.tokenize(post.lower())))\n",
    "\n",
    "df['tweet'] = tokens\n",
    "\n",
    "df = df.reset_index(drop=True)\n"
   ]
  },
  {
   "cell_type": "code",
   "execution_count": 10,
   "metadata": {
    "scrolled": true
   },
   "outputs": [
    {
     "data": {
      "text/html": [
       "<div>\n",
       "<style scoped>\n",
       "    .dataframe tbody tr th:only-of-type {\n",
       "        vertical-align: middle;\n",
       "    }\n",
       "\n",
       "    .dataframe tbody tr th {\n",
       "        vertical-align: top;\n",
       "    }\n",
       "\n",
       "    .dataframe thead th {\n",
       "        text-align: right;\n",
       "    }\n",
       "</style>\n",
       "<table border=\"1\" class=\"dataframe\">\n",
       "  <thead>\n",
       "    <tr style=\"text-align: right;\">\n",
       "      <th></th>\n",
       "      <th>tweet</th>\n",
       "      <th>location</th>\n",
       "      <th>user_name</th>\n",
       "      <th>time_stamp</th>\n",
       "      <th>num_retweets</th>\n",
       "      <th>num_likes</th>\n",
       "      <th>tweet_word_count</th>\n",
       "    </tr>\n",
       "  </thead>\n",
       "  <tbody>\n",
       "    <tr>\n",
       "      <td>0</td>\n",
       "      <td>and we could spend the rest of the money on ra...</td>\n",
       "      <td>Alabama</td>\n",
       "      <td>samd9273</td>\n",
       "      <td>2019-10-31 22:11:35</td>\n",
       "      <td>0</td>\n",
       "      <td>0</td>\n",
       "      <td>23</td>\n",
       "    </tr>\n",
       "    <tr>\n",
       "      <td>1</td>\n",
       "      <td>we sorry to hear the power is out please dm th...</td>\n",
       "      <td>Alabama</td>\n",
       "      <td>alabamapower</td>\n",
       "      <td>2019-10-31 21:53:10</td>\n",
       "      <td>0</td>\n",
       "      <td>0</td>\n",
       "      <td>23</td>\n",
       "    </tr>\n",
       "    <tr>\n",
       "      <td>2</td>\n",
       "      <td>drx1304 think of how many ducks we could buy w...</td>\n",
       "      <td>Alabama</td>\n",
       "      <td>samd9273</td>\n",
       "      <td>2019-10-31 21:44:15</td>\n",
       "      <td>0</td>\n",
       "      <td>1</td>\n",
       "      <td>13</td>\n",
       "    </tr>\n",
       "    <tr>\n",
       "      <td>3</td>\n",
       "      <td>it s spooky season</td>\n",
       "      <td>Alabama</td>\n",
       "      <td>OMGItsBlackout</td>\n",
       "      <td>2019-10-31 18:17:20</td>\n",
       "      <td>0</td>\n",
       "      <td>0</td>\n",
       "      <td>3</td>\n",
       "    </tr>\n",
       "    <tr>\n",
       "      <td>4</td>\n",
       "      <td>newsom raked in big money from public utility ...</td>\n",
       "      <td>Alabama</td>\n",
       "      <td>deenie7940</td>\n",
       "      <td>2019-10-31 13:58:11</td>\n",
       "      <td>0</td>\n",
       "      <td>0</td>\n",
       "      <td>19</td>\n",
       "    </tr>\n",
       "  </tbody>\n",
       "</table>\n",
       "</div>"
      ],
      "text/plain": [
       "                                               tweet location       user_name  \\\n",
       "0  and we could spend the rest of the money on ra...  Alabama        samd9273   \n",
       "1  we sorry to hear the power is out please dm th...  Alabama    alabamapower   \n",
       "2  drx1304 think of how many ducks we could buy w...  Alabama        samd9273   \n",
       "3                                 it s spooky season  Alabama  OMGItsBlackout   \n",
       "4  newsom raked in big money from public utility ...  Alabama      deenie7940   \n",
       "\n",
       "            time_stamp  num_retweets  num_likes  tweet_word_count  \n",
       "0  2019-10-31 22:11:35             0          0                23  \n",
       "1  2019-10-31 21:53:10             0          0                23  \n",
       "2  2019-10-31 21:44:15             0          1                13  \n",
       "3  2019-10-31 18:17:20             0          0                 3  \n",
       "4  2019-10-31 13:58:11             0          0                19  "
      ]
     },
     "execution_count": 10,
     "metadata": {},
     "output_type": "execute_result"
    }
   ],
   "source": [
    "df.head()"
   ]
  },
  {
   "cell_type": "code",
   "execution_count": 11,
   "metadata": {},
   "outputs": [
    {
     "data": {
      "text/plain": [
       "['and we could spend the rest of the money on rabbits that we can tend to living off the fatta of the land',\n",
       " 'we sorry to hear the power is out please dm the full service address so we can get the issue reported dorie j',\n",
       " 'drx1304 think of how many ducks we could buy with this money',\n",
       " 'it s spooky season',\n",
       " 'newsom raked in big money from public utility he is now chiding for fires and rolling blackouts']"
      ]
     },
     "execution_count": 11,
     "metadata": {},
     "output_type": "execute_result"
    }
   ],
   "source": [
    "[tweet for tweet in df['tweet']][:5]"
   ]
  },
  {
   "cell_type": "markdown",
   "metadata": {},
   "source": [
    "___\n",
    "## Lemmatizing"
   ]
  },
  {
   "cell_type": "code",
   "execution_count": 12,
   "metadata": {},
   "outputs": [],
   "source": [
    "# Instatiate the lemmatizer\n",
    "port = PorterStemmer()"
   ]
  },
  {
   "cell_type": "code",
   "execution_count": 13,
   "metadata": {},
   "outputs": [],
   "source": [
    "# start with an empty list\n",
    "port_tweet = []\n",
    "\n",
    "# Lemmatize the words in each post and add them to the list\n",
    "for post in df['tweet']:\n",
    "    port_tweet.append(' '.join([port.stem(word) for word in post.split()]))\n",
    "\n",
    "\n",
    "df['port_tweet'] = port_tweet"
   ]
  },
  {
   "cell_type": "code",
   "execution_count": 14,
   "metadata": {},
   "outputs": [
    {
     "data": {
      "text/html": [
       "<div>\n",
       "<style scoped>\n",
       "    .dataframe tbody tr th:only-of-type {\n",
       "        vertical-align: middle;\n",
       "    }\n",
       "\n",
       "    .dataframe tbody tr th {\n",
       "        vertical-align: top;\n",
       "    }\n",
       "\n",
       "    .dataframe thead th {\n",
       "        text-align: right;\n",
       "    }\n",
       "</style>\n",
       "<table border=\"1\" class=\"dataframe\">\n",
       "  <thead>\n",
       "    <tr style=\"text-align: right;\">\n",
       "      <th></th>\n",
       "      <th>tweet</th>\n",
       "      <th>location</th>\n",
       "      <th>user_name</th>\n",
       "      <th>time_stamp</th>\n",
       "      <th>num_retweets</th>\n",
       "      <th>num_likes</th>\n",
       "      <th>tweet_word_count</th>\n",
       "      <th>port_tweet</th>\n",
       "    </tr>\n",
       "  </thead>\n",
       "  <tbody>\n",
       "    <tr>\n",
       "      <td>0</td>\n",
       "      <td>and we could spend the rest of the money on ra...</td>\n",
       "      <td>Alabama</td>\n",
       "      <td>samd9273</td>\n",
       "      <td>2019-10-31 22:11:35</td>\n",
       "      <td>0</td>\n",
       "      <td>0</td>\n",
       "      <td>23</td>\n",
       "      <td>and we could spend the rest of the money on ra...</td>\n",
       "    </tr>\n",
       "    <tr>\n",
       "      <td>1</td>\n",
       "      <td>we sorry to hear the power is out please dm th...</td>\n",
       "      <td>Alabama</td>\n",
       "      <td>alabamapower</td>\n",
       "      <td>2019-10-31 21:53:10</td>\n",
       "      <td>0</td>\n",
       "      <td>0</td>\n",
       "      <td>23</td>\n",
       "      <td>we sorri to hear the power is out pleas dm the...</td>\n",
       "    </tr>\n",
       "    <tr>\n",
       "      <td>2</td>\n",
       "      <td>drx1304 think of how many ducks we could buy w...</td>\n",
       "      <td>Alabama</td>\n",
       "      <td>samd9273</td>\n",
       "      <td>2019-10-31 21:44:15</td>\n",
       "      <td>0</td>\n",
       "      <td>1</td>\n",
       "      <td>13</td>\n",
       "      <td>drx1304 think of how mani duck we could buy wi...</td>\n",
       "    </tr>\n",
       "    <tr>\n",
       "      <td>3</td>\n",
       "      <td>it s spooky season</td>\n",
       "      <td>Alabama</td>\n",
       "      <td>OMGItsBlackout</td>\n",
       "      <td>2019-10-31 18:17:20</td>\n",
       "      <td>0</td>\n",
       "      <td>0</td>\n",
       "      <td>3</td>\n",
       "      <td>it s spooki season</td>\n",
       "    </tr>\n",
       "    <tr>\n",
       "      <td>4</td>\n",
       "      <td>newsom raked in big money from public utility ...</td>\n",
       "      <td>Alabama</td>\n",
       "      <td>deenie7940</td>\n",
       "      <td>2019-10-31 13:58:11</td>\n",
       "      <td>0</td>\n",
       "      <td>0</td>\n",
       "      <td>19</td>\n",
       "      <td>newsom rake in big money from public util he i...</td>\n",
       "    </tr>\n",
       "  </tbody>\n",
       "</table>\n",
       "</div>"
      ],
      "text/plain": [
       "                                               tweet location       user_name  \\\n",
       "0  and we could spend the rest of the money on ra...  Alabama        samd9273   \n",
       "1  we sorry to hear the power is out please dm th...  Alabama    alabamapower   \n",
       "2  drx1304 think of how many ducks we could buy w...  Alabama        samd9273   \n",
       "3                                 it s spooky season  Alabama  OMGItsBlackout   \n",
       "4  newsom raked in big money from public utility ...  Alabama      deenie7940   \n",
       "\n",
       "            time_stamp  num_retweets  num_likes  tweet_word_count  \\\n",
       "0  2019-10-31 22:11:35             0          0                23   \n",
       "1  2019-10-31 21:53:10             0          0                23   \n",
       "2  2019-10-31 21:44:15             0          1                13   \n",
       "3  2019-10-31 18:17:20             0          0                 3   \n",
       "4  2019-10-31 13:58:11             0          0                19   \n",
       "\n",
       "                                          port_tweet  \n",
       "0  and we could spend the rest of the money on ra...  \n",
       "1  we sorri to hear the power is out pleas dm the...  \n",
       "2  drx1304 think of how mani duck we could buy wi...  \n",
       "3                                 it s spooki season  \n",
       "4  newsom rake in big money from public util he i...  "
      ]
     },
     "execution_count": 14,
     "metadata": {},
     "output_type": "execute_result"
    }
   ],
   "source": [
    "df.head()"
   ]
  },
  {
   "cell_type": "code",
   "execution_count": 15,
   "metadata": {},
   "outputs": [
    {
     "data": {
      "text/plain": [
       "['and we could spend the rest of the money on rabbit that we can tend to live off the fatta of the land',\n",
       " 'we sorri to hear the power is out pleas dm the full servic address so we can get the issu report dori j',\n",
       " 'drx1304 think of how mani duck we could buy with thi money',\n",
       " 'it s spooki season',\n",
       " 'newsom rake in big money from public util he is now chide for fire and roll blackout']"
      ]
     },
     "execution_count": 15,
     "metadata": {},
     "output_type": "execute_result"
    }
   ],
   "source": [
    "[tweet for tweet in df['port_tweet']][:5]"
   ]
  },
  {
   "cell_type": "markdown",
   "metadata": {},
   "source": [
    "___\n",
    "# check for nulls"
   ]
  },
  {
   "cell_type": "code",
   "execution_count": 16,
   "metadata": {
    "scrolled": true
   },
   "outputs": [
    {
     "data": {
      "text/plain": [
       "tweet               0\n",
       "location            0\n",
       "user_name           0\n",
       "time_stamp          0\n",
       "num_retweets        0\n",
       "num_likes           0\n",
       "tweet_word_count    0\n",
       "port_tweet          0\n",
       "dtype: int64"
      ]
     },
     "execution_count": 16,
     "metadata": {},
     "output_type": "execute_result"
    }
   ],
   "source": [
    "df.isnull().sum()"
   ]
  },
  {
   "cell_type": "code",
   "execution_count": 17,
   "metadata": {},
   "outputs": [
    {
     "data": {
      "text/plain": [
       "(18990, 8)"
      ]
     },
     "execution_count": 17,
     "metadata": {},
     "output_type": "execute_result"
    }
   ],
   "source": [
    "df = df.dropna().reset_index(drop=True)\n",
    "df.shape"
   ]
  },
  {
   "cell_type": "markdown",
   "metadata": {},
   "source": [
    "___\n",
    "# formating date and time"
   ]
  },
  {
   "cell_type": "code",
   "execution_count": 18,
   "metadata": {},
   "outputs": [
    {
     "data": {
      "text/plain": [
       "0        2019-10-31 22:11:35\n",
       "1        2019-10-31 21:53:10\n",
       "2        2019-10-31 21:44:15\n",
       "3        2019-10-31 18:17:20\n",
       "4        2019-10-31 13:58:11\n",
       "                ...         \n",
       "18985    2014-01-03 11:33:05\n",
       "18986    2014-01-03 09:31:31\n",
       "18987    2014-01-03 08:46:49\n",
       "18988    2014-01-02 06:14:09\n",
       "18989    2014-01-01 03:54:18\n",
       "Name: time_stamp, Length: 18990, dtype: object"
      ]
     },
     "execution_count": 18,
     "metadata": {},
     "output_type": "execute_result"
    }
   ],
   "source": [
    "df['time_stamp']"
   ]
  },
  {
   "cell_type": "code",
   "execution_count": 19,
   "metadata": {},
   "outputs": [],
   "source": [
    "df['time_location'] = [f\"{date.split()[0]} {date.split()[1].split(':')[0]}:00:00 | {df['location'][i]}\" \n",
    "                   for i, date in enumerate(df['time_stamp'])]"
   ]
  },
  {
   "cell_type": "code",
   "execution_count": 20,
   "metadata": {},
   "outputs": [
    {
     "data": {
      "text/html": [
       "<div>\n",
       "<style scoped>\n",
       "    .dataframe tbody tr th:only-of-type {\n",
       "        vertical-align: middle;\n",
       "    }\n",
       "\n",
       "    .dataframe tbody tr th {\n",
       "        vertical-align: top;\n",
       "    }\n",
       "\n",
       "    .dataframe thead th {\n",
       "        text-align: right;\n",
       "    }\n",
       "</style>\n",
       "<table border=\"1\" class=\"dataframe\">\n",
       "  <thead>\n",
       "    <tr style=\"text-align: right;\">\n",
       "      <th></th>\n",
       "      <th>tweet</th>\n",
       "      <th>location</th>\n",
       "      <th>user_name</th>\n",
       "      <th>time_stamp</th>\n",
       "      <th>num_retweets</th>\n",
       "      <th>num_likes</th>\n",
       "      <th>tweet_word_count</th>\n",
       "      <th>port_tweet</th>\n",
       "      <th>time_location</th>\n",
       "    </tr>\n",
       "  </thead>\n",
       "  <tbody>\n",
       "    <tr>\n",
       "      <td>0</td>\n",
       "      <td>and we could spend the rest of the money on ra...</td>\n",
       "      <td>Alabama</td>\n",
       "      <td>samd9273</td>\n",
       "      <td>2019-10-31 22:11:35</td>\n",
       "      <td>0</td>\n",
       "      <td>0</td>\n",
       "      <td>23</td>\n",
       "      <td>and we could spend the rest of the money on ra...</td>\n",
       "      <td>2019-10-31 22:00:00 | Alabama</td>\n",
       "    </tr>\n",
       "    <tr>\n",
       "      <td>1</td>\n",
       "      <td>we sorry to hear the power is out please dm th...</td>\n",
       "      <td>Alabama</td>\n",
       "      <td>alabamapower</td>\n",
       "      <td>2019-10-31 21:53:10</td>\n",
       "      <td>0</td>\n",
       "      <td>0</td>\n",
       "      <td>23</td>\n",
       "      <td>we sorri to hear the power is out pleas dm the...</td>\n",
       "      <td>2019-10-31 21:00:00 | Alabama</td>\n",
       "    </tr>\n",
       "    <tr>\n",
       "      <td>2</td>\n",
       "      <td>drx1304 think of how many ducks we could buy w...</td>\n",
       "      <td>Alabama</td>\n",
       "      <td>samd9273</td>\n",
       "      <td>2019-10-31 21:44:15</td>\n",
       "      <td>0</td>\n",
       "      <td>1</td>\n",
       "      <td>13</td>\n",
       "      <td>drx1304 think of how mani duck we could buy wi...</td>\n",
       "      <td>2019-10-31 21:00:00 | Alabama</td>\n",
       "    </tr>\n",
       "    <tr>\n",
       "      <td>3</td>\n",
       "      <td>it s spooky season</td>\n",
       "      <td>Alabama</td>\n",
       "      <td>OMGItsBlackout</td>\n",
       "      <td>2019-10-31 18:17:20</td>\n",
       "      <td>0</td>\n",
       "      <td>0</td>\n",
       "      <td>3</td>\n",
       "      <td>it s spooki season</td>\n",
       "      <td>2019-10-31 18:00:00 | Alabama</td>\n",
       "    </tr>\n",
       "    <tr>\n",
       "      <td>4</td>\n",
       "      <td>newsom raked in big money from public utility ...</td>\n",
       "      <td>Alabama</td>\n",
       "      <td>deenie7940</td>\n",
       "      <td>2019-10-31 13:58:11</td>\n",
       "      <td>0</td>\n",
       "      <td>0</td>\n",
       "      <td>19</td>\n",
       "      <td>newsom rake in big money from public util he i...</td>\n",
       "      <td>2019-10-31 13:00:00 | Alabama</td>\n",
       "    </tr>\n",
       "  </tbody>\n",
       "</table>\n",
       "</div>"
      ],
      "text/plain": [
       "                                               tweet location       user_name  \\\n",
       "0  and we could spend the rest of the money on ra...  Alabama        samd9273   \n",
       "1  we sorry to hear the power is out please dm th...  Alabama    alabamapower   \n",
       "2  drx1304 think of how many ducks we could buy w...  Alabama        samd9273   \n",
       "3                                 it s spooky season  Alabama  OMGItsBlackout   \n",
       "4  newsom raked in big money from public utility ...  Alabama      deenie7940   \n",
       "\n",
       "            time_stamp  num_retweets  num_likes  tweet_word_count  \\\n",
       "0  2019-10-31 22:11:35             0          0                23   \n",
       "1  2019-10-31 21:53:10             0          0                23   \n",
       "2  2019-10-31 21:44:15             0          1                13   \n",
       "3  2019-10-31 18:17:20             0          0                 3   \n",
       "4  2019-10-31 13:58:11             0          0                19   \n",
       "\n",
       "                                          port_tweet  \\\n",
       "0  and we could spend the rest of the money on ra...   \n",
       "1  we sorri to hear the power is out pleas dm the...   \n",
       "2  drx1304 think of how mani duck we could buy wi...   \n",
       "3                                 it s spooki season   \n",
       "4  newsom rake in big money from public util he i...   \n",
       "\n",
       "                   time_location  \n",
       "0  2019-10-31 22:00:00 | Alabama  \n",
       "1  2019-10-31 21:00:00 | Alabama  \n",
       "2  2019-10-31 21:00:00 | Alabama  \n",
       "3  2019-10-31 18:00:00 | Alabama  \n",
       "4  2019-10-31 13:00:00 | Alabama  "
      ]
     },
     "execution_count": 20,
     "metadata": {},
     "output_type": "execute_result"
    }
   ],
   "source": [
    "df.head()"
   ]
  },
  {
   "cell_type": "code",
   "execution_count": 21,
   "metadata": {},
   "outputs": [],
   "source": [
    "# save our cleaned twitter data\n",
    "df.to_csv('../Data/twitter_states_cleaned_2014_19.csv', index=False)"
   ]
  },
  {
   "cell_type": "code",
   "execution_count": null,
   "metadata": {},
   "outputs": [],
   "source": []
  }
 ],
 "metadata": {
  "kernelspec": {
   "display_name": "Python 3",
   "language": "python",
   "name": "python3"
  },
  "language_info": {
   "codemirror_mode": {
    "name": "ipython",
    "version": 3
   },
   "file_extension": ".py",
   "mimetype": "text/x-python",
   "name": "python",
   "nbconvert_exporter": "python",
   "pygments_lexer": "ipython3",
   "version": "3.7.3"
  }
 },
 "nbformat": 4,
 "nbformat_minor": 2
}
